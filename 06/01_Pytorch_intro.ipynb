{
  "nbformat": 4,
  "nbformat_minor": 0,
  "metadata": {
    "colab": {
      "provenance": [],
      "gpuType": "T4"
    },
    "kernelspec": {
      "name": "python3",
      "display_name": "Python 3"
    },
    "language_info": {
      "name": "python"
    },
    "accelerator": "GPU"
  },
  "cells": [
    {
      "cell_type": "markdown",
      "source": [
        "# Copyright\n",
        "\n",
        "<PRE>\n",
        "This notebook was created as part of the \"Deep learning / VITMMA19\" class at\n",
        "Budapest University of Technology and Economics, Hungary,\n",
        "https://portal.vik.bme.hu/kepzes/targyak/VITMMA19\n",
        "Based on the official documentation:\n",
        "https://pytorch.org/tutorials/beginner/basics/intro.html\n",
        "and\n",
        "https://towardsdatascience.com/from-pytorch-to-pytorch-lightning-a-gentle-introduction-b371b7caaf09\n",
        "\n",
        "Any re-use or publication of any part of the notebook is only allowed with the\n",
        " written consent of the authors.\n",
        "\n",
        "2023 (c) Tamás Gábor Csapó (csapot kukac tmit pont bme pont hu)\n",
        "</PRE>"
      ],
      "metadata": {
        "id": "JTQ3tvmtu30-"
      }
    },
    {
      "cell_type": "markdown",
      "source": [
        "in the following, we will learn about\n",
        "- PyTorch tensors\n",
        "- Datasets\n",
        "- Dataset transforms\n"
      ],
      "metadata": {
        "id": "z9icgcedvMWa"
      }
    },
    {
      "cell_type": "code",
      "source": [
        "import torch\n",
        "import numpy as np"
      ],
      "metadata": {
        "id": "2dEwH-NmvNVA"
      },
      "execution_count": null,
      "outputs": []
    },
    {
      "cell_type": "code",
      "source": [
        "torch.__version__"
      ],
      "metadata": {
        "colab": {
          "base_uri": "https://localhost:8080/",
          "height": 35
        },
        "id": "t7vASmUTv0bi",
        "outputId": "e496e872-0a26-4176-821a-72abb8198d1e"
      },
      "execution_count": null,
      "outputs": [
        {
          "output_type": "execute_result",
          "data": {
            "text/plain": [
              "'2.0.1+cu118'"
            ],
            "application/vnd.google.colaboratory.intrinsic+json": {
              "type": "string"
            }
          },
          "metadata": {},
          "execution_count": 2
        }
      ]
    },
    {
      "cell_type": "code",
      "source": [
        "# torch: tensors\n",
        "# Tensors are similar to NumPy’s ndarrays, except that tensors can run on GPUs or other hardware accelerators."
      ],
      "metadata": {
        "id": "3bvvC8O6v5in"
      },
      "execution_count": null,
      "outputs": []
    },
    {
      "cell_type": "code",
      "source": [
        "# from list\n",
        "a = [[0,2], [4,6]]\n",
        "t_a = torch.tensor(a)\n",
        "t_a"
      ],
      "metadata": {
        "colab": {
          "base_uri": "https://localhost:8080/"
        },
        "id": "JM6m3P19wP5h",
        "outputId": "dd11ac28-ded4-4072-e99c-fb751e9572bc"
      },
      "execution_count": null,
      "outputs": [
        {
          "output_type": "execute_result",
          "data": {
            "text/plain": [
              "tensor([[0, 2],\n",
              "        [4, 6]])"
            ]
          },
          "metadata": {},
          "execution_count": 21
        }
      ]
    },
    {
      "cell_type": "code",
      "source": [
        "# from numpy array\n",
        "b = np.array(a)\n",
        "t_b = torch.from_numpy(b)\n",
        "t_b"
      ],
      "metadata": {
        "colab": {
          "base_uri": "https://localhost:8080/"
        },
        "id": "Jn8KEZXRwXrH",
        "outputId": "31b38471-cbba-472b-b330-14cca9f53121"
      },
      "execution_count": null,
      "outputs": [
        {
          "output_type": "execute_result",
          "data": {
            "text/plain": [
              "tensor([[0, 2],\n",
              "        [4, 6]])"
            ]
          },
          "metadata": {},
          "execution_count": 5
        }
      ]
    },
    {
      "cell_type": "code",
      "source": [
        "# from another tensor, keeping the same size / structure\n",
        "x_ones = torch.ones_like(t_a)\n",
        "x_ones"
      ],
      "metadata": {
        "colab": {
          "base_uri": "https://localhost:8080/"
        },
        "id": "oPsQle5NwgSZ",
        "outputId": "c6854f8f-bd09-4096-ff07-aa3468681619"
      },
      "execution_count": null,
      "outputs": [
        {
          "output_type": "execute_result",
          "data": {
            "text/plain": [
              "tensor([[1, 1],\n",
              "        [1, 1]])"
            ]
          },
          "metadata": {},
          "execution_count": 6
        }
      ]
    },
    {
      "cell_type": "code",
      "source": [
        "# from another tensor, keeping the same size / structure\n",
        "x_random = torch.rand_like(t_a)\n",
        "x_random"
      ],
      "metadata": {
        "colab": {
          "base_uri": "https://localhost:8080/",
          "height": 211
        },
        "id": "ilNrvgTNw2ko",
        "outputId": "26e9aac7-3df5-4122-9729-b0cdb502da7f"
      },
      "execution_count": null,
      "outputs": [
        {
          "output_type": "error",
          "ename": "RuntimeError",
          "evalue": "ignored",
          "traceback": [
            "\u001b[0;31m---------------------------------------------------------------------------\u001b[0m",
            "\u001b[0;31mRuntimeError\u001b[0m                              Traceback (most recent call last)",
            "\u001b[0;32m<ipython-input-7-35c44ee13dc0>\u001b[0m in \u001b[0;36m<cell line: 2>\u001b[0;34m()\u001b[0m\n\u001b[1;32m      1\u001b[0m \u001b[0;31m# from another tensor, keeping the same size / structure\u001b[0m\u001b[0;34m\u001b[0m\u001b[0;34m\u001b[0m\u001b[0m\n\u001b[0;32m----> 2\u001b[0;31m \u001b[0mx_random\u001b[0m \u001b[0;34m=\u001b[0m \u001b[0mtorch\u001b[0m\u001b[0;34m.\u001b[0m\u001b[0mrand_like\u001b[0m\u001b[0;34m(\u001b[0m\u001b[0mt_a\u001b[0m\u001b[0;34m)\u001b[0m\u001b[0;34m\u001b[0m\u001b[0;34m\u001b[0m\u001b[0m\n\u001b[0m\u001b[1;32m      3\u001b[0m \u001b[0mx_random\u001b[0m\u001b[0;34m\u001b[0m\u001b[0;34m\u001b[0m\u001b[0m\n",
            "\u001b[0;31mRuntimeError\u001b[0m: \"check_uniform_bounds\" not implemented for 'Long'"
          ]
        }
      ]
    },
    {
      "cell_type": "code",
      "source": [
        "# from another tensor, keeping the same size / structure\n",
        "# we'll need to add the type\n",
        "x_random = torch.rand_like(t_a, dtype=float)\n",
        "x_random"
      ],
      "metadata": {
        "colab": {
          "base_uri": "https://localhost:8080/"
        },
        "id": "_3LjtjQtxBMC",
        "outputId": "3630e629-c832-4d74-a27c-beb3570597e0"
      },
      "execution_count": null,
      "outputs": [
        {
          "output_type": "execute_result",
          "data": {
            "text/plain": [
              "tensor([[0.9544, 0.7717],\n",
              "        [0.5990, 0.0530]], dtype=torch.float64)"
            ]
          },
          "metadata": {},
          "execution_count": 8
        }
      ]
    },
    {
      "cell_type": "code",
      "source": [
        "# from another tensor, keeping the same size / structure\n",
        "# we'll need to add the type\n",
        "# OR like this\n",
        "x_random = torch.rand_like(t_a, dtype=torch.float)\n",
        "x_random"
      ],
      "metadata": {
        "colab": {
          "base_uri": "https://localhost:8080/"
        },
        "id": "HiIkqfKWxOU6",
        "outputId": "6a4697f9-1530-44b7-cbfc-119cf35a44e5"
      },
      "execution_count": null,
      "outputs": [
        {
          "output_type": "execute_result",
          "data": {
            "text/plain": [
              "tensor([[0.7656, 0.7075],\n",
              "        [0.1906, 0.9578]])"
            ]
          },
          "metadata": {},
          "execution_count": 22
        }
      ]
    },
    {
      "cell_type": "code",
      "source": [
        "# similarly to numpy, we can create tensors of zeros, ones, rands\n",
        "# with a given shape\n",
        "x_ones = torch.ones((2,3))\n",
        "x_ones"
      ],
      "metadata": {
        "id": "3-s9-K4sxUFi",
        "colab": {
          "base_uri": "https://localhost:8080/"
        },
        "outputId": "2d1bfe39-4d78-4430-b775-28928bf6bf92"
      },
      "execution_count": null,
      "outputs": [
        {
          "output_type": "execute_result",
          "data": {
            "text/plain": [
              "tensor([[1., 1., 1.],\n",
              "        [1., 1., 1.]])"
            ]
          },
          "metadata": {},
          "execution_count": 10
        }
      ]
    },
    {
      "cell_type": "code",
      "source": [
        "x_zeros = torch.zeros((3,4))\n",
        "x_zeros"
      ],
      "metadata": {
        "colab": {
          "base_uri": "https://localhost:8080/"
        },
        "id": "NrsdsCx9RLiY",
        "outputId": "d2358242-9df8-4acd-ccb7-8646ad1f5de5"
      },
      "execution_count": null,
      "outputs": [
        {
          "output_type": "execute_result",
          "data": {
            "text/plain": [
              "tensor([[0., 0., 0., 0.],\n",
              "        [0., 0., 0., 0.],\n",
              "        [0., 0., 0., 0.]])"
            ]
          },
          "metadata": {},
          "execution_count": 11
        }
      ]
    },
    {
      "cell_type": "code",
      "source": [
        "# matrix multiplication\n",
        "\n",
        "x_random = torch.randn(3,5)\n",
        "y1 = x_random.matmul(x_random.T)\n",
        "# or: can be written as xrandom @ x_random.T\n",
        "y1"
      ],
      "metadata": {
        "colab": {
          "base_uri": "https://localhost:8080/"
        },
        "id": "8UsvbV6za8XM",
        "outputId": "ccaee09c-277e-4201-a461-1c0c070972cc"
      },
      "execution_count": null,
      "outputs": [
        {
          "output_type": "execute_result",
          "data": {
            "text/plain": [
              "tensor([[4.7051, 1.9681, 1.7191],\n",
              "        [1.9681, 6.3450, 3.1635],\n",
              "        [1.7191, 3.1635, 2.2056]])"
            ]
          },
          "metadata": {},
          "execution_count": 26
        }
      ]
    },
    {
      "cell_type": "code",
      "source": [
        "# matrix, elementwise product\n",
        "z1 = x_random.mul(x_random)\n",
        "# or: can be written as x_random * x_random\n",
        "z1"
      ],
      "metadata": {
        "colab": {
          "base_uri": "https://localhost:8080/"
        },
        "id": "AjwzqksLbrgd",
        "outputId": "20c86c08-7247-4d5f-f1b5-a5e21aa96a96"
      },
      "execution_count": null,
      "outputs": [
        {
          "output_type": "execute_result",
          "data": {
            "text/plain": [
              "tensor([[2.0319e+00, 3.0057e-02, 6.2506e-01, 1.4699e+00, 5.4818e-01],\n",
              "        [2.7214e+00, 1.7833e-03, 2.1218e+00, 3.7484e-01, 1.1252e+00],\n",
              "        [1.9303e+00, 1.9420e-02, 5.5950e-02, 1.6415e-02, 1.8353e-01]])"
            ]
          },
          "metadata": {},
          "execution_count": 27
        }
      ]
    },
    {
      "cell_type": "code",
      "source": [
        "# shape and dtype are similar to np\n",
        "# torch: where is the variable stored?\n",
        "x_zeros.device"
      ],
      "metadata": {
        "colab": {
          "base_uri": "https://localhost:8080/"
        },
        "id": "5mCbt--NRUoO",
        "outputId": "0946e7e1-ff49-49cf-95fa-1c7553335377"
      },
      "execution_count": null,
      "outputs": [
        {
          "output_type": "execute_result",
          "data": {
            "text/plain": [
              "device(type='cpu')"
            ]
          },
          "metadata": {},
          "execution_count": 12
        }
      ]
    },
    {
      "cell_type": "code",
      "source": [
        "# we can put to GPU -> operations can be done higher speed than on CPU\n",
        "# if you start Colab, by default it will be on CPU\n",
        "torch.cuda.is_available()"
      ],
      "metadata": {
        "colab": {
          "base_uri": "https://localhost:8080/"
        },
        "id": "kiL8Xj4bRkmN",
        "outputId": "40029895-2342-4e19-d759-11157891ded4"
      },
      "execution_count": null,
      "outputs": [
        {
          "output_type": "execute_result",
          "data": {
            "text/plain": [
              "False"
            ]
          },
          "metadata": {},
          "execution_count": 13
        }
      ]
    },
    {
      "cell_type": "code",
      "source": [
        "# in the menu, Runtime / Change runtime type -> GPU + runtime is restarted\n",
        "import torch\n",
        "import numpy as np\n",
        "if not torch.cuda.is_available():\n",
        "  raise"
      ],
      "metadata": {
        "id": "sKrvhj-FTZD-"
      },
      "execution_count": null,
      "outputs": []
    },
    {
      "cell_type": "code",
      "source": [
        "# we can put to GPU -> operations can be done higher speed than on CPU\n",
        "x_zeros = torch.zeros((3,4))\n",
        "if torch.cuda.is_available():\n",
        "  x_zeros = x_zeros.to(\"cuda\")\n",
        "x_zeros.device"
      ],
      "metadata": {
        "colab": {
          "base_uri": "https://localhost:8080/"
        },
        "id": "U6pbXuzgTqMU",
        "outputId": "b34c8688-a770-47d9-a037-80bfb2adc32e"
      },
      "execution_count": null,
      "outputs": [
        {
          "output_type": "execute_result",
          "data": {
            "text/plain": [
              "device(type='cuda', index=0)"
            ]
          },
          "metadata": {},
          "execution_count": 2
        }
      ]
    },
    {
      "cell_type": "code",
      "source": [
        "# do some calculations - test speed\n",
        "# https://medium.com/analytics-vidhya/using-pytorch-and-cuda-for-large-computation-in-google-colabs-f1c026c17673\n",
        "\n",
        "# numpy\n",
        "%%time\n",
        "b = np.random.randn(5000,5000)\n",
        "res = np.matmul(b,b)\n",
        "del b, res"
      ],
      "metadata": {
        "colab": {
          "base_uri": "https://localhost:8080/"
        },
        "id": "iSzIX0_XUckL",
        "outputId": "8b033cac-5ab1-437d-bb7f-004bb3162bc2"
      },
      "execution_count": null,
      "outputs": [
        {
          "output_type": "stream",
          "name": "stdout",
          "text": [
            "CPU times: user 12.6 s, sys: 398 ms, total: 13 s\n",
            "Wall time: 8.5 s\n"
          ]
        }
      ]
    },
    {
      "cell_type": "code",
      "source": [
        "# torch, cpu\n",
        "%%time\n",
        "c = torch.randn(5000,5000)\n",
        "res = torch.matmul(c,c)\n",
        "del c, res"
      ],
      "metadata": {
        "colab": {
          "base_uri": "https://localhost:8080/"
        },
        "id": "n2L1CY7CU-2A",
        "outputId": "0112d8f6-d654-4eb0-bf48-c880ff882448"
      },
      "execution_count": null,
      "outputs": [
        {
          "output_type": "stream",
          "name": "stdout",
          "text": [
            "CPU times: user 3.73 s, sys: 137 ms, total: 3.87 s\n",
            "Wall time: 3.9 s\n"
          ]
        }
      ]
    },
    {
      "cell_type": "code",
      "source": [
        "# torch, GPU\n",
        "%%time\n",
        "d = torch.randn(5000,5000).cuda()\n",
        "res = torch.matmul(d,d)\n",
        "del d, res"
      ],
      "metadata": {
        "colab": {
          "base_uri": "https://localhost:8080/"
        },
        "id": "_ooOfFETVQgE",
        "outputId": "d11e5a47-11c4-43e7-b83b-e5a0b1594f30"
      },
      "execution_count": null,
      "outputs": [
        {
          "output_type": "stream",
          "name": "stdout",
          "text": [
            "CPU times: user 628 ms, sys: 267 ms, total: 895 ms\n",
            "Wall time: 3.15 s\n"
          ]
        }
      ]
    },
    {
      "cell_type": "code",
      "source": [
        "# torch, GPU, 2nd time will be faster\n",
        "# (first time: GPU needed to be warmed-up)\n",
        "%%time\n",
        "e = torch.randn(5000,5000).cuda()\n",
        "res = torch.matmul(e,e)\n",
        "del e, res"
      ],
      "metadata": {
        "colab": {
          "base_uri": "https://localhost:8080/"
        },
        "id": "Qn1HC-ObVw-y",
        "outputId": "5997cbb5-5b36-4304-f227-22a807eb9cc0"
      },
      "execution_count": null,
      "outputs": [
        {
          "output_type": "stream",
          "name": "stdout",
          "text": [
            "CPU times: user 170 ms, sys: 47 ms, total: 217 ms\n",
            "Wall time: 218 ms\n"
          ]
        }
      ]
    },
    {
      "cell_type": "code",
      "source": [
        "# torch, GPU, multiple times not faster\n",
        "%%time\n",
        "f = torch.randn(5000,5000).cuda()\n",
        "res = torch.matmul(f,f)\n",
        "del f, res"
      ],
      "metadata": {
        "colab": {
          "base_uri": "https://localhost:8080/"
        },
        "id": "6uQ_zABrV19B",
        "outputId": "e89c320c-12ae-4b1e-be11-32cbd8f8d531"
      },
      "execution_count": null,
      "outputs": [
        {
          "output_type": "stream",
          "name": "stdout",
          "text": [
            "CPU times: user 181 ms, sys: 42.8 ms, total: 224 ms\n",
            "Wall time: 220 ms\n"
          ]
        }
      ]
    },
    {
      "cell_type": "code",
      "source": [
        "# but: copying large tensors across devices is 'expensive'\n",
        "%%time\n",
        "g = torch.randn(20000,20000)"
      ],
      "metadata": {
        "colab": {
          "base_uri": "https://localhost:8080/"
        },
        "id": "_CLPJg38X_qw",
        "outputId": "467ba4ca-1eb4-4447-c985-5d78176a2bdc"
      },
      "execution_count": null,
      "outputs": [
        {
          "output_type": "stream",
          "name": "stdout",
          "text": [
            "CPU times: user 2.46 s, sys: 615 ms, total: 3.07 s\n",
            "Wall time: 3.07 s\n"
          ]
        }
      ]
    },
    {
      "cell_type": "code",
      "source": [
        "# but: copying large tensors across devices is 'expensive'\n",
        "%%time\n",
        "g = g.to(\"cuda\")"
      ],
      "metadata": {
        "colab": {
          "base_uri": "https://localhost:8080/"
        },
        "id": "Yo2V0XfQWTEC",
        "outputId": "0a41dafa-4abe-4542-a075-037f2baa9288"
      },
      "execution_count": null,
      "outputs": [
        {
          "output_type": "stream",
          "name": "stdout",
          "text": [
            "CPU times: user 355 ms, sys: 436 µs, total: 355 ms\n",
            "Wall time: 372 ms\n"
          ]
        }
      ]
    },
    {
      "cell_type": "code",
      "source": [
        "# but: copying large tensors across devices is 'expensive'\n",
        "%%time\n",
        "g = g.to(\"cpu\")\n",
        "del g"
      ],
      "metadata": {
        "colab": {
          "base_uri": "https://localhost:8080/"
        },
        "id": "6Os7g7UXZriv",
        "outputId": "e4f7961e-858b-4591-aa97-6b8f7e7fd2e5"
      },
      "execution_count": null,
      "outputs": [
        {
          "output_type": "stream",
          "name": "stdout",
          "text": [
            "CPU times: user 326 ms, sys: 751 ms, total: 1.08 s\n",
            "Wall time: 1.07 s\n"
          ]
        }
      ]
    },
    {
      "cell_type": "code",
      "source": [
        "# conclusion of the speed measurements:\n",
        "# numpy vs pytorch&GPU: 70x speedup"
      ],
      "metadata": {
        "id": "lTt1o482WfZN"
      },
      "execution_count": null,
      "outputs": []
    },
    {
      "cell_type": "code",
      "source": [
        "# aggregating values\n",
        "x_random = torch.randn(3,5)\n",
        "x_agg = x_random.sum()\n",
        "x_agg"
      ],
      "metadata": {
        "colab": {
          "base_uri": "https://localhost:8080/"
        },
        "id": "fWN8OGE0YeNv",
        "outputId": "672f2e78-a7b4-4a37-e489-068e42a0e03f"
      },
      "execution_count": null,
      "outputs": [
        {
          "output_type": "execute_result",
          "data": {
            "text/plain": [
              "tensor(-0.2748)"
            ]
          },
          "metadata": {},
          "execution_count": 28
        }
      ]
    },
    {
      "cell_type": "code",
      "source": [
        "# in-place operations, denoted by _ suffix\n",
        "# save memory, but: losing history (problematic when computing derivatives)\n",
        "x_random.add_(15)\n"
      ],
      "metadata": {
        "colab": {
          "base_uri": "https://localhost:8080/"
        },
        "id": "uz1dyUxQfA50",
        "outputId": "695b5ff8-7156-4e25-ddda-f3055b21f4ee"
      },
      "execution_count": null,
      "outputs": [
        {
          "output_type": "execute_result",
          "data": {
            "text/plain": [
              "tensor([[13.5987, 14.1754, 14.3027, 16.1300, 14.5774],\n",
              "        [14.8517, 15.5329, 13.5980, 14.3839, 16.5282],\n",
              "        [15.5112, 17.3399, 14.9466, 14.7736, 14.4750]])"
            ]
          },
          "metadata": {},
          "execution_count": 30
        }
      ]
    },
    {
      "cell_type": "code",
      "source": [
        "# put tensor back to numpy array\n",
        "x_np = x_random.numpy()"
      ],
      "metadata": {
        "id": "_URAf69tfEjj"
      },
      "execution_count": null,
      "outputs": []
    },
    {
      "cell_type": "code",
      "source": [
        "# if we change the tensor, the numpy array is also changed\n",
        "x_random[0,0] = 0\n",
        "x_np"
      ],
      "metadata": {
        "colab": {
          "base_uri": "https://localhost:8080/"
        },
        "id": "o4lMG3NRj59Q",
        "outputId": "d623ff4d-d22d-43bb-fa39-91b4963f1f67"
      },
      "execution_count": null,
      "outputs": [
        {
          "output_type": "execute_result",
          "data": {
            "text/plain": [
              "array([[ 0.       , 14.175409 , 14.302669 , 16.129953 , 14.577355 ],\n",
              "       [14.8517   , 15.532878 , 13.597959 , 14.38393  , 16.528238 ],\n",
              "       [15.511185 , 17.339928 , 14.946596 , 14.773569 , 14.4750395]],\n",
              "      dtype=float32)"
            ]
          },
          "metadata": {},
          "execution_count": 33
        }
      ]
    },
    {
      "cell_type": "code",
      "source": [
        "# other way:\n",
        "# if we change the numpy array, the tensor is also changed!\n",
        "n = np.zeros(3)\n",
        "t = torch.from_numpy(n)\n",
        "n += 2\n",
        "t"
      ],
      "metadata": {
        "colab": {
          "base_uri": "https://localhost:8080/"
        },
        "id": "hmameRc9kGmr",
        "outputId": "b80f0e96-0638-49e3-8161-646118d8cdc3"
      },
      "execution_count": null,
      "outputs": [
        {
          "output_type": "execute_result",
          "data": {
            "text/plain": [
              "tensor([2., 2., 2.], dtype=torch.float64)"
            ]
          },
          "metadata": {},
          "execution_count": 34
        }
      ]
    },
    {
      "cell_type": "markdown",
      "source": [
        "# Datasets, dataloaders"
      ],
      "metadata": {
        "id": "XGqYM28Hkxu8"
      }
    },
    {
      "cell_type": "code",
      "source": [
        "# torchvision.datasets: several popular datasets\n",
        "# https://pytorch.org/vision/stable/datasets.html\n",
        "from torchvision import datasets"
      ],
      "metadata": {
        "id": "xYrqUHj8k0c4"
      },
      "execution_count": null,
      "outputs": []
    },
    {
      "cell_type": "code",
      "source": [
        "# transforms on the dataset (e.g. scaling) and augmenting images\n",
        "# https://pytorch.org/vision/stable/transforms.html\n",
        "# ToTensor: PIL image to array, and scale values\n",
        "from torchvision.transforms import ToTensor"
      ],
      "metadata": {
        "id": "E2aDS3IGlWeu"
      },
      "execution_count": null,
      "outputs": []
    },
    {
      "cell_type": "code",
      "source": [
        "import matplotlib.pyplot as plt"
      ],
      "metadata": {
        "id": "O3Hj6u0_l-rq"
      },
      "execution_count": null,
      "outputs": []
    },
    {
      "cell_type": "code",
      "source": [
        "SVHN_data = datasets.SVHN(\n",
        "    root=\"d\",\n",
        "    download=True,\n",
        "    transform=ToTensor()\n",
        ")\n",
        "SVHN_data"
      ],
      "metadata": {
        "colab": {
          "base_uri": "https://localhost:8080/"
        },
        "id": "y3PtSKCemBxi",
        "outputId": "3ec137c0-236a-4252-bd2b-ac5cf0e02d58"
      },
      "execution_count": null,
      "outputs": [
        {
          "output_type": "stream",
          "name": "stdout",
          "text": [
            "Using downloaded and verified file: d/train_32x32.mat\n"
          ]
        },
        {
          "output_type": "execute_result",
          "data": {
            "text/plain": [
              "Dataset SVHN\n",
              "    Number of datapoints: 73257\n",
              "    Root location: d\n",
              "    Split: train\n",
              "    StandardTransform\n",
              "Transform: ToTensor()"
            ]
          },
          "metadata": {},
          "execution_count": 49
        }
      ]
    },
    {
      "cell_type": "code",
      "source": [
        "SVHN_data.data.shape"
      ],
      "metadata": {
        "colab": {
          "base_uri": "https://localhost:8080/"
        },
        "id": "gE9HWsxtmaIZ",
        "outputId": "69ec006f-b4b9-4618-e79d-25e8dcf5a597"
      },
      "execution_count": null,
      "outputs": [
        {
          "output_type": "execute_result",
          "data": {
            "text/plain": [
              "(73257, 3, 32, 32)"
            ]
          },
          "metadata": {},
          "execution_count": 53
        }
      ]
    },
    {
      "cell_type": "code",
      "source": [
        "figure = plt.figure(figsize=(8, 8))\n",
        "for i in range(5):\n",
        "  figure.add_subplot(1,5,i+1)\n",
        "  # imshow requires (32,32,3)\n",
        "  plt.imshow(np.moveaxis(SVHN_data.data[i], 0, 2))\n",
        "  plt.title(SVHN_data.labels[i])"
      ],
      "metadata": {
        "colab": {
          "base_uri": "https://localhost:8080/",
          "height": 189
        },
        "id": "UOWTdaLZnNfk",
        "outputId": "47a53e57-7796-4b3c-bec1-da8ab8810300"
      },
      "execution_count": null,
      "outputs": [
        {
          "output_type": "display_data",
          "data": {
            "text/plain": [
              "<Figure size 800x800 with 5 Axes>"
            ],
            "image/png": "[encoded data removed]"
          },
          "metadata": {}
        }
      ]
    },
    {
      "cell_type": "code",
      "source": [
        "# DataLoader: get minibatches from dataset\n",
        "from torch.utils.data import DataLoader"
      ],
      "metadata": {
        "id": "wYahTHwtnWGW"
      },
      "execution_count": null,
      "outputs": []
    },
    {
      "cell_type": "code",
      "source": [
        "# result will be an iterable\n",
        "SVHN_dataloader = DataLoader(SVHN_data, batch_size=32, shuffle=True)"
      ],
      "metadata": {
        "id": "PUCcVt-Mq97z"
      },
      "execution_count": null,
      "outputs": []
    },
    {
      "cell_type": "code",
      "source": [
        "SVHN_features, SVHN_labels = next(iter(SVHN_dataloader))"
      ],
      "metadata": {
        "colab": {
          "base_uri": "https://localhost:8080/"
        },
        "id": "SG6IARYsrMjo",
        "outputId": "fd5b25eb-dde8-4747-e5ef-d3a0d0acf0af"
      },
      "execution_count": null,
      "outputs": [
        {
          "output_type": "execute_result",
          "data": {
            "text/plain": [
              "tensor(4)"
            ]
          },
          "metadata": {},
          "execution_count": 84
        }
      ]
    },
    {
      "cell_type": "code",
      "source": [
        "SVHN_features.shape"
      ],
      "metadata": {
        "colab": {
          "base_uri": "https://localhost:8080/"
        },
        "id": "xrXGxHnZrQIY",
        "outputId": "10949bd3-173b-425f-90f9-d7667048962e"
      },
      "execution_count": null,
      "outputs": [
        {
          "output_type": "execute_result",
          "data": {
            "text/plain": [
              "torch.Size([32, 3, 32, 32])"
            ]
          },
          "metadata": {},
          "execution_count": 85
        }
      ]
    },
    {
      "cell_type": "code",
      "source": [
        "SVHN_labels.shape"
      ],
      "metadata": {
        "colab": {
          "base_uri": "https://localhost:8080/"
        },
        "id": "6aSm6uKoruXw",
        "outputId": "d885fae1-4b27-4803-a178-34ba1b2a8493"
      },
      "execution_count": null,
      "outputs": [
        {
          "output_type": "execute_result",
          "data": {
            "text/plain": [
              "torch.Size([32])"
            ]
          },
          "metadata": {},
          "execution_count": 86
        }
      ]
    }
  ]
}