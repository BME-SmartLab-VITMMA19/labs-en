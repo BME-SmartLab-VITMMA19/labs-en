{
 "cells": [
  {
   "cell_type": "code",
   "execution_count": null,
   "metadata": {
    "id": "K9huvMTmhTqI"
   },
   "outputs": [],
   "source": [
    "### HYPEROPT / optional task for the student\n",
    "# extend WandB.ai integration in the code with sweeps\n",
    "# (e.g. add variables like learning rate, optimizer, neurons_FC1, neurons_FC2)\n",
    "# help: https://docs.wandb.ai/guides/sweeps and\n",
    "#       https://github.com/wandb/wandb/issues/5003\n",
    "# store the hyperparameters and val_acc to wandb\n",
    "# run at least 20 trainings\n",
    "# in wandb.ai, export the result of the runs as a .csv file,\n",
    "# in wandb.ai, create a report from the sweep results, share by public link, "
   ]
  }
 ],
 "metadata": {
  "colab": {
   "provenance": []
  },
  "kernelspec": {
   "display_name": "Python 3",
   "language": "python",
   "name": "python3"
  },
  "language_info": {
   "codemirror_mode": {
    "name": "ipython",
    "version": 3
   },
   "file_extension": ".py",
   "mimetype": "text/x-python",
   "name": "python",
   "nbconvert_exporter": "python",
   "pygments_lexer": "ipython3",
   "version": "3.9.12"
  }
 },
 "nbformat": 4,
 "nbformat_minor": 1
}
