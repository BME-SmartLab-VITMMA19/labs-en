{
  "cells": [
    {
      "cell_type": "code",
      "execution_count": 3,
      "metadata": {
        "id": "ylmHRNZuexnE"
      },
      "outputs": [],
      "source": [
        "# install pytorch lithening\n",
        "!pip install pytorch-lightning --quiet\n",
        "!pip install wandb --quiet"
      ]
    },
    {
      "cell_type": "code",
      "execution_count": 4,
      "metadata": {
        "id": "5dPxEJZwe6Y2"
      },
      "outputs": [],
      "source": [
        "import pytorch_lightning as pl\n",
        "import torch\n",
        "from torch import nn\n",
        "from torch.nn import functional as F\n",
        "from torch.utils.data import DataLoader,random_split\n",
        "from torchmetrics import Accuracy\n",
        "from torchvision import transforms\n",
        "from torchvision.datasets import CIFAR10\n",
        "from pytorch_lightning.loggers import WandbLogger\n",
        "import wandb\n"
      ]
    },
    {
      "cell_type": "code",
      "execution_count": 5,
      "metadata": {
        "id": "CczgZ5nkgAGy"
      },
      "outputs": [],
      "source": [
        "# create one class to deal with data\n",
        "class CifarDataModule(pl.LightningDataModule):\n",
        "  def __init__(self, batch_size, data_dir=\"./\"):\n",
        "    super().__init__()\n",
        "    self.data_dir=data_dir\n",
        "    self.batch_size=batch_size\n",
        "    self.transform=transforms.Compose([transforms.ToTensor(),transforms.Normalize((0.5,0.5,0.5),(0.5,0.5,0.5))])\n",
        "    self.num_classes=10\n",
        "\n",
        "  def prepare_data(self):\n",
        "    CIFAR10(self.data_dir,train=True,download=True)\n",
        "    CIFAR10(self.data_dir,train=False,download=True)\n",
        "\n",
        "  def setup(self, stage=None):\n",
        "    if stage=='fit' or stage is None:\n",
        "      cifar_full=CIFAR10(self.data_dir,train=True,transform=self.transform)\n",
        "      self.cifar_train,self.cifar_val=random_split(cifar_full,[45000,5000])\n",
        "\n",
        "    if stage=='test' or stage is None:\n",
        "      self.cifar_test=CIFAR10(self.data_dir,train=False,transform=self.transform)\n",
        "\n",
        "  def train_dataloader(self):\n",
        "    return DataLoader(self.cifar_train,batch_size=self.batch_size,shuffle=True,num_workers=2)\n",
        "\n",
        "  def val_dataloader(self):\n",
        "    return DataLoader(self.cifar_val,batch_size=self.batch_size,shuffle=False,num_workers=2)\n",
        "\n",
        "  def test_dataloader(self):\n",
        "    return DataLoader(self.cifar_test,batch_size=self.batch_size,shuffle=False,num_workers=2)\n",
        "\n",
        "\n"
      ]
    },
    {
      "cell_type": "code",
      "execution_count": 6,
      "metadata": {
        "id": "-Xal7kSzlkAb"
      },
      "outputs": [],
      "source": [
        "class CIFAR10LitModel(pl.LightningModule):\n",
        "    def __init__(self, input_shape,num_classes,learning_rate=3e-4):\n",
        "      super().__init__()\n",
        "      self.save_hyperparameters()\n",
        "      self.input_shape=input_shape\n",
        "      self.learning_rate=learning_rate\n",
        "\n",
        "      # model architecture\n",
        "      self.conv1=nn.Conv2d(3,32,3,1)\n",
        "      self.conv2=nn.Conv2d(32,32,3,1)\n",
        "      self.conv3=nn.Conv2d(32,64,3,1)\n",
        "      self.conv4=nn.Conv2d(64,64,3,1)\n",
        "      self.pool1=nn.MaxPool2d(2)\n",
        "      self.pool2=nn.MaxPool2d(2)\n",
        "\n",
        "      n_sizes = self._get_output_shape(input_shape)\n",
        "      self.fc1=nn.Linear(n_sizes,512)\n",
        "      self.fc2=nn.Linear(512,128)\n",
        "      self.fc3=nn.Linear(128,num_classes)\n",
        "\n",
        "      self.train_acc=Accuracy(task='multiclass',num_classes=10)\n",
        "      self.val_acc=Accuracy(task='multiclass',num_classes=10)\n",
        "      self.test_acc=Accuracy(task='multiclass',num_classes=10)\n",
        "\n",
        "\n",
        "    def _get_output_shape(self, shape):\n",
        "          '''returns the size of the output tensor from the conv layers'''\n",
        "          batch_size = 1\n",
        "          input = torch.autograd.Variable(torch.rand(batch_size, *shape))\n",
        "          output_feat = self._feature_extractor(input)\n",
        "          n_size = output_feat.data.view(batch_size, -1).size(1)\n",
        "          return n_size\n",
        "\n",
        "\n",
        "  # conv1,relu, conv2,relu, maxpool,conv3,relu,conv4,relu,maxpool\n",
        "    def _feature_extractor(self,x):\n",
        "      x=F.relu(self.conv1(x))\n",
        "      x=self.pool1(F.relu(self.conv2(x)))\n",
        "      x=F.relu(self.conv3(x))\n",
        "      x=self.pool2(F.relu(self.conv4(x)))\n",
        "      return x\n",
        "\n",
        "\n",
        "    def forward(self,x):\n",
        "      x=self._feature_extractor(x)\n",
        "      x=x.view(x.size(0),-1)\n",
        "      x=F.relu(self.fc1(x))\n",
        "      x=F.relu(self.fc2(x))\n",
        "      x=F.log_softmax(self.fc3(x),dim=1)\n",
        "      return x\n",
        "\n",
        "    def training_step(self, batch, batch_idx):\n",
        "      x, y = batch\n",
        "      logits = self(x)\n",
        "      loss = F.nll_loss(logits, y)\n",
        "      # metric\n",
        "      preds = torch.argmax(logits, dim=1)\n",
        "      acc = self.train_acc(preds, y)\n",
        "      self.log('train_loss', loss, on_step=True, on_epoch=True, logger=True)\n",
        "      self.log('train_acc', acc, on_step=True, on_epoch=True, logger=True)\n",
        "      return loss\n",
        "\n",
        "    # validation loop\n",
        "    def validation_step(self, batch, batch_idx):\n",
        "      x, y = batch\n",
        "      logits = self(x)\n",
        "      loss = F.nll_loss(logits, y)\n",
        "      preds = torch.argmax(logits, dim=1)\n",
        "      acc = self.val_acc(preds, y)\n",
        "      self.log('val_loss', loss, prog_bar=True)\n",
        "      self.log('val_acc', acc, prog_bar=True)\n",
        "      return loss\n",
        "\n",
        "    # test loop\n",
        "    def test_step(self,batch,batch_idx):\n",
        "      x,y=batch\n",
        "      logits=self(x)\n",
        "      loss=F.nll_loss(logits,y)\n",
        "\n",
        "      pred=torch.argmax(logits,dim=1)\n",
        "      acc=self.test_acc(pred,y)\n",
        "      self.log('test_loss',loss,on_epoch=True)\n",
        "      self.log('test_acc',acc,on_epoch=True)\n",
        "      return loss\n",
        "\n",
        "    def configure_optimizers(self):\n",
        "      optimizer=torch.optim.Adam(self.parameters(),self.learning_rate)\n",
        "      return optimizer\n",
        "\n"
      ]
    },
    {
      "cell_type": "code",
      "execution_count": 7,
      "metadata": {
        "id": "IRAcw-MZYebS"
      },
      "outputs": [],
      "source": [
        "# class for visualizing one batch of validation images along with predicted and rall class label\n",
        "class ImagePredictionLogger(pl.Callback):\n",
        "    def __init__(self, val_samples, num_samples=32):\n",
        "        super().__init__()\n",
        "        self.val_imgs, self.val_labels = val_samples\n",
        "        self.val_imgs = self.val_imgs[:num_samples]\n",
        "        self.val_labels = self.val_labels[:num_samples]\n",
        "\n",
        "    def on_validation_epoch_end(self, trainer, pl_module):\n",
        "        val_imgs = self.val_imgs.to(device=pl_module.device)\n",
        "        logits = pl_module(val_imgs)\n",
        "        preds = torch.argmax(logits, 1)\n",
        "\n",
        "        trainer.logger.experiment.log({\n",
        "            \"examples\": [wandb.Image(x, caption=f\"Pred:{pred}, Label:{y}\")\n",
        "                            for x, pred, y in zip(val_imgs, preds, self.val_labels)],\n",
        "            \"global_step\": trainer.global_step\n",
        "            })"
      ]
    },
    {
      "cell_type": "code",
      "execution_count": 8,
      "metadata": {
        "colab": {
          "base_uri": "https://localhost:8080/"
        },
        "id": "R7kOEzHpmCYi",
        "outputId": "a75d89f0-e2b9-40c6-a4fe-23420a3251c7"
      },
      "outputs": [
        {
          "output_type": "stream",
          "name": "stdout",
          "text": [
            "Downloading https://www.cs.toronto.edu/~kriz/cifar-10-python.tar.gz to ./cifar-10-python.tar.gz\n"
          ]
        },
        {
          "output_type": "stream",
          "name": "stderr",
          "text": [
            "100%|██████████| 170498071/170498071 [00:03<00:00, 52719085.55it/s]\n"
          ]
        },
        {
          "output_type": "stream",
          "name": "stdout",
          "text": [
            "Extracting ./cifar-10-python.tar.gz to ./\n",
            "Files already downloaded and verified\n"
          ]
        }
      ],
      "source": [
        "cifar = CifarDataModule(batch_size=32)\n",
        "cifar.prepare_data()\n",
        "cifar.setup()\n",
        "# grab samples to log predictions on\n",
        "samples = next(iter(cifar.val_dataloader()))"
      ]
    },
    {
      "cell_type": "code",
      "execution_count": 11,
      "metadata": {
        "id": "pbTicSoZ1Gtw"
      },
      "outputs": [],
      "source": [
        "### WandB, you have have an account(if you don't, create one)\n",
        "def train_model(learning_rate=1e-3):\n",
        "    wandb.login(key='')\n",
        "    config=wandb.config\n",
        "    wandb_logger = WandbLogger(project='lastt', job_type='train', log_model=\"all\")\n",
        "    # instantiate classes\n",
        "    dm = CifarDataModule(32)\n",
        "    dm.prepare_data()\n",
        "    dm.setup()\n",
        "    model = CIFAR10LitModel((3, 32, 32), dm.num_classes, learning_rate)\n",
        "    wandb_logger.watch(model)\n",
        "    # Initialize Callbacks\n",
        "    checkpoint_callback = pl.callbacks.ModelCheckpoint()\n",
        "    early_stop_callback = pl.callbacks.EarlyStopping(monitor=\"val_acc\", patience=3, verbose=False, mode=\"max\")\n",
        "    ### WandB\n",
        "    trainer = pl.Trainer(max_epochs=5,\n",
        "                     logger=wandb_logger,\n",
        "                     callbacks=[checkpoint_callback, early_stop_callback,ImagePredictionLogger(samples)]\n",
        "                    )\n",
        "    # Train the model\n",
        "    trainer.fit(model, dm)\n",
        "\n",
        "    # Evaluate the model\n",
        "    trainer.test(dataloaders=cifar.test_dataloader())\n",
        "    # tell the WandB you have finished\n",
        "    wandb.finish()\n",
        "\n"
      ]
    },
    {
      "cell_type": "code",
      "execution_count": null,
      "metadata": {
        "colab": {
          "base_uri": "https://localhost:8080/",
          "height": 708,
          "referenced_widgets": [
            "1500f3b3d9af471f82d38e9e1fe7cd5e",
            "fdf70689a2314f5abb23c25c4b11fcdf",
            "a6d90fa426ec4cd1ae5f7d2e35377c34",
            "ebd1f1ed2f7642e5af8589ffacc14b2a",
            "7627134445ef4792a5de046a30a0457c",
            "3925525bf5654cfbbe2f958aaade2ba4",
            "c84e9591e11249efb6eab5ac487ea8c8",
            "23d9afcb25d249fbb823a044807d2901",
            "ea475ca8d6534d5dae91b928eb922b3a",
            "4a17fc8bd5e04010ad81d0981874e9cd",
            "7c59ade397a94cb4ad16a9d53c106693",
            "7157aba33de34ed381ed84d3da1eb97f",
            "d76b4d58ac6f459783b45235a1ca70b7",
            "aba8f5810a2445a8913c3eb41e3e1afc",
            "d8df3da24e7944e4ac93eb2431c83144",
            "2caa7fe00dbf406ebd462e2fa4aac61f",
            "0b0df9ac79284278af38380f62d096c9",
            "d446f52d04f14f729344bd3292526125",
            "c1b22bc488e345aebd796d2a23be7a96",
            "8c60677bed494e61a3b44a1912cf4a3c",
            "06d1336963764996ac315c99409e952b",
            "d4fbbbf1fb9145ce9bb0c6eb60350864"
          ]
        },
        "id": "edXZVgxLd7_b",
        "outputId": "21399808-6e28-41cd-bd89-02b80c3ba712"
      },
      "outputs": [
        {
          "output_type": "stream",
          "name": "stderr",
          "text": [
            "\u001b[34m\u001b[1mwandb\u001b[0m: \u001b[33mWARNING\u001b[0m If you're specifying your api key in code, ensure this code is not shared publicly.\n",
            "\u001b[34m\u001b[1mwandb\u001b[0m: \u001b[33mWARNING\u001b[0m Consider setting the WANDB_API_KEY environment variable, or running `wandb login` from the command line.\n",
            "\u001b[34m\u001b[1mwandb\u001b[0m: Appending key for api.wandb.ai to your netrc file: /root/.netrc\n",
            "\u001b[34m\u001b[1mwandb\u001b[0m: Currently logged in as: \u001b[33mdosti\u001b[0m (\u001b[33mhorami\u001b[0m). Use \u001b[1m`wandb login --relogin`\u001b[0m to force relogin\n"
          ]
        },
        {
          "output_type": "display_data",
          "data": {
            "text/plain": [
              "<IPython.core.display.HTML object>"
            ],
            "text/html": [
              "Tracking run with wandb version 0.15.12"
            ]
          },
          "metadata": {}
        },
        {
          "output_type": "display_data",
          "data": {
            "text/plain": [
              "<IPython.core.display.HTML object>"
            ],
            "text/html": [
              "Run data is saved locally in <code>./wandb/run-20231011_063432-145dfzk8</code>"
            ]
          },
          "metadata": {}
        },
        {
          "output_type": "display_data",
          "data": {
            "text/plain": [
              "<IPython.core.display.HTML object>"
            ],
            "text/html": [
              "Syncing run <strong><a href='https://wandb.ai/horami/lastt/runs/145dfzk8' target=\"_blank\">deft-sunset-1</a></strong> to <a href='https://wandb.ai/horami/lastt' target=\"_blank\">Weights & Biases</a> (<a href='https://wandb.me/run' target=\"_blank\">docs</a>)<br/>"
            ]
          },
          "metadata": {}
        },
        {
          "output_type": "display_data",
          "data": {
            "text/plain": [
              "<IPython.core.display.HTML object>"
            ],
            "text/html": [
              " View project at <a href='https://wandb.ai/horami/lastt' target=\"_blank\">https://wandb.ai/horami/lastt</a>"
            ]
          },
          "metadata": {}
        },
        {
          "output_type": "display_data",
          "data": {
            "text/plain": [
              "<IPython.core.display.HTML object>"
            ],
            "text/html": [
              " View run at <a href='https://wandb.ai/horami/lastt/runs/145dfzk8' target=\"_blank\">https://wandb.ai/horami/lastt/runs/145dfzk8</a>"
            ]
          },
          "metadata": {}
        },
        {
          "output_type": "stream",
          "name": "stdout",
          "text": [
            "Files already downloaded and verified\n",
            "Files already downloaded and verified\n"
          ]
        },
        {
          "output_type": "stream",
          "name": "stderr",
          "text": [
            "\u001b[34m\u001b[1mwandb\u001b[0m: logging graph, to disable use `wandb.watch(log_graph=False)`\n",
            "INFO:pytorch_lightning.utilities.rank_zero:GPU available: False, used: False\n",
            "INFO:pytorch_lightning.utilities.rank_zero:TPU available: False, using: 0 TPU cores\n",
            "INFO:pytorch_lightning.utilities.rank_zero:IPU available: False, using: 0 IPUs\n",
            "INFO:pytorch_lightning.utilities.rank_zero:HPU available: False, using: 0 HPUs\n"
          ]
        },
        {
          "output_type": "stream",
          "name": "stdout",
          "text": [
            "Files already downloaded and verified\n",
            "Files already downloaded and verified\n"
          ]
        },
        {
          "output_type": "stream",
          "name": "stderr",
          "text": [
            "INFO:pytorch_lightning.callbacks.model_summary:\n",
            "   | Name      | Type               | Params\n",
            "--------------------------------------------------\n",
            "0  | conv1     | Conv2d             | 896   \n",
            "1  | conv2     | Conv2d             | 9.2 K \n",
            "2  | conv3     | Conv2d             | 18.5 K\n",
            "3  | conv4     | Conv2d             | 36.9 K\n",
            "4  | pool1     | MaxPool2d          | 0     \n",
            "5  | pool2     | MaxPool2d          | 0     \n",
            "6  | fc1       | Linear             | 819 K \n",
            "7  | fc2       | Linear             | 65.7 K\n",
            "8  | fc3       | Linear             | 1.3 K \n",
            "9  | train_acc | MulticlassAccuracy | 0     \n",
            "10 | val_acc   | MulticlassAccuracy | 0     \n",
            "11 | test_acc  | MulticlassAccuracy | 0     \n",
            "--------------------------------------------------\n",
            "952 K     Trainable params\n",
            "0         Non-trainable params\n",
            "952 K     Total params\n",
            "3.809     Total estimated model params size (MB)\n"
          ]
        },
        {
          "output_type": "display_data",
          "data": {
            "text/plain": [
              "Sanity Checking: 0it [00:00, ?it/s]"
            ],
            "application/vnd.jupyter.widget-view+json": {
              "version_major": 2,
              "version_minor": 0,
              "model_id": "1500f3b3d9af471f82d38e9e1fe7cd5e"
            }
          },
          "metadata": {}
        },
        {
          "output_type": "display_data",
          "data": {
            "text/plain": [
              "Training: 0it [00:00, ?it/s]"
            ],
            "application/vnd.jupyter.widget-view+json": {
              "version_major": 2,
              "version_minor": 0,
              "model_id": "7157aba33de34ed381ed84d3da1eb97f"
            }
          },
          "metadata": {}
        }
      ],
      "source": [
        "train_model()"
      ]
    }
  ],
  "metadata": {
    "accelerator": "GPU",
    "colab": {
      "provenance": [],
      "gpuType": "T4"
    },
    "kernelspec": {
      "display_name": "Python 3",
      "name": "python3"
    },
    "language_info": {
      "name": "python"
    },
    "widgets": {
      "application/vnd.jupyter.widget-state+json": {
        "1500f3b3d9af471f82d38e9e1fe7cd5e": {
          "model_module": "@jupyter-widgets/controls",
          "model_name": "HBoxModel",
          "model_module_version": "1.5.0",
          "state": {
            "_dom_classes": [],
            "_model_module": "@jupyter-widgets/controls",
            "_model_module_version": "1.5.0",
            "_model_name": "HBoxModel",
            "_view_count": null,
            "_view_module": "@jupyter-widgets/controls",
            "_view_module_version": "1.5.0",
            "_view_name": "HBoxView",
            "box_style": "",
            "children": [
              "IPY_MODEL_fdf70689a2314f5abb23c25c4b11fcdf",
              "IPY_MODEL_a6d90fa426ec4cd1ae5f7d2e35377c34",
              "IPY_MODEL_ebd1f1ed2f7642e5af8589ffacc14b2a"
            ],
            "layout": "IPY_MODEL_7627134445ef4792a5de046a30a0457c"
          }
        },
        "fdf70689a2314f5abb23c25c4b11fcdf": {
          "model_module": "@jupyter-widgets/controls",
          "model_name": "HTMLModel",
          "model_module_version": "1.5.0",
          "state": {
            "_dom_classes": [],
            "_model_module": "@jupyter-widgets/controls",
            "_model_module_version": "1.5.0",
            "_model_name": "HTMLModel",
            "_view_count": null,
            "_view_module": "@jupyter-widgets/controls",
            "_view_module_version": "1.5.0",
            "_view_name": "HTMLView",
            "description": "",
            "description_tooltip": null,
            "layout": "IPY_MODEL_3925525bf5654cfbbe2f958aaade2ba4",
            "placeholder": "​",
            "style": "IPY_MODEL_c84e9591e11249efb6eab5ac487ea8c8",
            "value": "Sanity Checking DataLoader 0: 100%"
          }
        },
        "a6d90fa426ec4cd1ae5f7d2e35377c34": {
          "model_module": "@jupyter-widgets/controls",
          "model_name": "FloatProgressModel",
          "model_module_version": "1.5.0",
          "state": {
            "_dom_classes": [],
            "_model_module": "@jupyter-widgets/controls",
            "_model_module_version": "1.5.0",
            "_model_name": "FloatProgressModel",
            "_view_count": null,
            "_view_module": "@jupyter-widgets/controls",
            "_view_module_version": "1.5.0",
            "_view_name": "ProgressView",
            "bar_style": "",
            "description": "",
            "description_tooltip": null,
            "layout": "IPY_MODEL_23d9afcb25d249fbb823a044807d2901",
            "max": 2,
            "min": 0,
            "orientation": "horizontal",
            "style": "IPY_MODEL_ea475ca8d6534d5dae91b928eb922b3a",
            "value": 2
          }
        },
        "ebd1f1ed2f7642e5af8589ffacc14b2a": {
          "model_module": "@jupyter-widgets/controls",
          "model_name": "HTMLModel",
          "model_module_version": "1.5.0",
          "state": {
            "_dom_classes": [],
            "_model_module": "@jupyter-widgets/controls",
            "_model_module_version": "1.5.0",
            "_model_name": "HTMLModel",
            "_view_count": null,
            "_view_module": "@jupyter-widgets/controls",
            "_view_module_version": "1.5.0",
            "_view_name": "HTMLView",
            "description": "",
            "description_tooltip": null,
            "layout": "IPY_MODEL_4a17fc8bd5e04010ad81d0981874e9cd",
            "placeholder": "​",
            "style": "IPY_MODEL_7c59ade397a94cb4ad16a9d53c106693",
            "value": " 2/2 [00:00&lt;00:00,  8.82it/s]"
          }
        },
        "7627134445ef4792a5de046a30a0457c": {
          "model_module": "@jupyter-widgets/base",
          "model_name": "LayoutModel",
          "model_module_version": "1.2.0",
          "state": {
            "_model_module": "@jupyter-widgets/base",
            "_model_module_version": "1.2.0",
            "_model_name": "LayoutModel",
            "_view_count": null,
            "_view_module": "@jupyter-widgets/base",
            "_view_module_version": "1.2.0",
            "_view_name": "LayoutView",
            "align_content": null,
            "align_items": null,
            "align_self": null,
            "border": null,
            "bottom": null,
            "display": "inline-flex",
            "flex": null,
            "flex_flow": "row wrap",
            "grid_area": null,
            "grid_auto_columns": null,
            "grid_auto_flow": null,
            "grid_auto_rows": null,
            "grid_column": null,
            "grid_gap": null,
            "grid_row": null,
            "grid_template_areas": null,
            "grid_template_columns": null,
            "grid_template_rows": null,
            "height": null,
            "justify_content": null,
            "justify_items": null,
            "left": null,
            "margin": null,
            "max_height": null,
            "max_width": null,
            "min_height": null,
            "min_width": null,
            "object_fit": null,
            "object_position": null,
            "order": null,
            "overflow": null,
            "overflow_x": null,
            "overflow_y": null,
            "padding": null,
            "right": null,
            "top": null,
            "visibility": "hidden",
            "width": "100%"
          }
        },
        "3925525bf5654cfbbe2f958aaade2ba4": {
          "model_module": "@jupyter-widgets/base",
          "model_name": "LayoutModel",
          "model_module_version": "1.2.0",
          "state": {
            "_model_module": "@jupyter-widgets/base",
            "_model_module_version": "1.2.0",
            "_model_name": "LayoutModel",
            "_view_count": null,
            "_view_module": "@jupyter-widgets/base",
            "_view_module_version": "1.2.0",
            "_view_name": "LayoutView",
            "align_content": null,
            "align_items": null,
            "align_self": null,
            "border": null,
            "bottom": null,
            "display": null,
            "flex": null,
            "flex_flow": null,
            "grid_area": null,
            "grid_auto_columns": null,
            "grid_auto_flow": null,
            "grid_auto_rows": null,
            "grid_column": null,
            "grid_gap": null,
            "grid_row": null,
            "grid_template_areas": null,
            "grid_template_columns": null,
            "grid_template_rows": null,
            "height": null,
            "justify_content": null,
            "justify_items": null,
            "left": null,
            "margin": null,
            "max_height": null,
            "max_width": null,
            "min_height": null,
            "min_width": null,
            "object_fit": null,
            "object_position": null,
            "order": null,
            "overflow": null,
            "overflow_x": null,
            "overflow_y": null,
            "padding": null,
            "right": null,
            "top": null,
            "visibility": null,
            "width": null
          }
        },
        "c84e9591e11249efb6eab5ac487ea8c8": {
          "model_module": "@jupyter-widgets/controls",
          "model_name": "DescriptionStyleModel",
          "model_module_version": "1.5.0",
          "state": {
            "_model_module": "@jupyter-widgets/controls",
            "_model_module_version": "1.5.0",
            "_model_name": "DescriptionStyleModel",
            "_view_count": null,
            "_view_module": "@jupyter-widgets/base",
            "_view_module_version": "1.2.0",
            "_view_name": "StyleView",
            "description_width": ""
          }
        },
        "23d9afcb25d249fbb823a044807d2901": {
          "model_module": "@jupyter-widgets/base",
          "model_name": "LayoutModel",
          "model_module_version": "1.2.0",
          "state": {
            "_model_module": "@jupyter-widgets/base",
            "_model_module_version": "1.2.0",
            "_model_name": "LayoutModel",
            "_view_count": null,
            "_view_module": "@jupyter-widgets/base",
            "_view_module_version": "1.2.0",
            "_view_name": "LayoutView",
            "align_content": null,
            "align_items": null,
            "align_self": null,
            "border": null,
            "bottom": null,
            "display": null,
            "flex": "2",
            "flex_flow": null,
            "grid_area": null,
            "grid_auto_columns": null,
            "grid_auto_flow": null,
            "grid_auto_rows": null,
            "grid_column": null,
            "grid_gap": null,
            "grid_row": null,
            "grid_template_areas": null,
            "grid_template_columns": null,
            "grid_template_rows": null,
            "height": null,
            "justify_content": null,
            "justify_items": null,
            "left": null,
            "margin": null,
            "max_height": null,
            "max_width": null,
            "min_height": null,
            "min_width": null,
            "object_fit": null,
            "object_position": null,
            "order": null,
            "overflow": null,
            "overflow_x": null,
            "overflow_y": null,
            "padding": null,
            "right": null,
            "top": null,
            "visibility": null,
            "width": null
          }
        },
        "ea475ca8d6534d5dae91b928eb922b3a": {
          "model_module": "@jupyter-widgets/controls",
          "model_name": "ProgressStyleModel",
          "model_module_version": "1.5.0",
          "state": {
            "_model_module": "@jupyter-widgets/controls",
            "_model_module_version": "1.5.0",
            "_model_name": "ProgressStyleModel",
            "_view_count": null,
            "_view_module": "@jupyter-widgets/base",
            "_view_module_version": "1.2.0",
            "_view_name": "StyleView",
            "bar_color": null,
            "description_width": ""
          }
        },
        "4a17fc8bd5e04010ad81d0981874e9cd": {
          "model_module": "@jupyter-widgets/base",
          "model_name": "LayoutModel",
          "model_module_version": "1.2.0",
          "state": {
            "_model_module": "@jupyter-widgets/base",
            "_model_module_version": "1.2.0",
            "_model_name": "LayoutModel",
            "_view_count": null,
            "_view_module": "@jupyter-widgets/base",
            "_view_module_version": "1.2.0",
            "_view_name": "LayoutView",
            "align_content": null,
            "align_items": null,
            "align_self": null,
            "border": null,
            "bottom": null,
            "display": null,
            "flex": null,
            "flex_flow": null,
            "grid_area": null,
            "grid_auto_columns": null,
            "grid_auto_flow": null,
            "grid_auto_rows": null,
            "grid_column": null,
            "grid_gap": null,
            "grid_row": null,
            "grid_template_areas": null,
            "grid_template_columns": null,
            "grid_template_rows": null,
            "height": null,
            "justify_content": null,
            "justify_items": null,
            "left": null,
            "margin": null,
            "max_height": null,
            "max_width": null,
            "min_height": null,
            "min_width": null,
            "object_fit": null,
            "object_position": null,
            "order": null,
            "overflow": null,
            "overflow_x": null,
            "overflow_y": null,
            "padding": null,
            "right": null,
            "top": null,
            "visibility": null,
            "width": null
          }
        },
        "7c59ade397a94cb4ad16a9d53c106693": {
          "model_module": "@jupyter-widgets/controls",
          "model_name": "DescriptionStyleModel",
          "model_module_version": "1.5.0",
          "state": {
            "_model_module": "@jupyter-widgets/controls",
            "_model_module_version": "1.5.0",
            "_model_name": "DescriptionStyleModel",
            "_view_count": null,
            "_view_module": "@jupyter-widgets/base",
            "_view_module_version": "1.2.0",
            "_view_name": "StyleView",
            "description_width": ""
          }
        },
        "7157aba33de34ed381ed84d3da1eb97f": {
          "model_module": "@jupyter-widgets/controls",
          "model_name": "HBoxModel",
          "model_module_version": "1.5.0",
          "state": {
            "_dom_classes": [],
            "_model_module": "@jupyter-widgets/controls",
            "_model_module_version": "1.5.0",
            "_model_name": "HBoxModel",
            "_view_count": null,
            "_view_module": "@jupyter-widgets/controls",
            "_view_module_version": "1.5.0",
            "_view_name": "HBoxView",
            "box_style": "",
            "children": [
              "IPY_MODEL_d76b4d58ac6f459783b45235a1ca70b7",
              "IPY_MODEL_aba8f5810a2445a8913c3eb41e3e1afc",
              "IPY_MODEL_d8df3da24e7944e4ac93eb2431c83144"
            ],
            "layout": "IPY_MODEL_2caa7fe00dbf406ebd462e2fa4aac61f"
          }
        },
        "d76b4d58ac6f459783b45235a1ca70b7": {
          "model_module": "@jupyter-widgets/controls",
          "model_name": "HTMLModel",
          "model_module_version": "1.5.0",
          "state": {
            "_dom_classes": [],
            "_model_module": "@jupyter-widgets/controls",
            "_model_module_version": "1.5.0",
            "_model_name": "HTMLModel",
            "_view_count": null,
            "_view_module": "@jupyter-widgets/controls",
            "_view_module_version": "1.5.0",
            "_view_name": "HTMLView",
            "description": "",
            "description_tooltip": null,
            "layout": "IPY_MODEL_0b0df9ac79284278af38380f62d096c9",
            "placeholder": "​",
            "style": "IPY_MODEL_d446f52d04f14f729344bd3292526125",
            "value": "Epoch 0:  32%"
          }
        },
        "aba8f5810a2445a8913c3eb41e3e1afc": {
          "model_module": "@jupyter-widgets/controls",
          "model_name": "FloatProgressModel",
          "model_module_version": "1.5.0",
          "state": {
            "_dom_classes": [],
            "_model_module": "@jupyter-widgets/controls",
            "_model_module_version": "1.5.0",
            "_model_name": "FloatProgressModel",
            "_view_count": null,
            "_view_module": "@jupyter-widgets/controls",
            "_view_module_version": "1.5.0",
            "_view_name": "ProgressView",
            "bar_style": "",
            "description": "",
            "description_tooltip": null,
            "layout": "IPY_MODEL_c1b22bc488e345aebd796d2a23be7a96",
            "max": 1407,
            "min": 0,
            "orientation": "horizontal",
            "style": "IPY_MODEL_8c60677bed494e61a3b44a1912cf4a3c",
            "value": 448
          }
        },
        "d8df3da24e7944e4ac93eb2431c83144": {
          "model_module": "@jupyter-widgets/controls",
          "model_name": "HTMLModel",
          "model_module_version": "1.5.0",
          "state": {
            "_dom_classes": [],
            "_model_module": "@jupyter-widgets/controls",
            "_model_module_version": "1.5.0",
            "_model_name": "HTMLModel",
            "_view_count": null,
            "_view_module": "@jupyter-widgets/controls",
            "_view_module_version": "1.5.0",
            "_view_name": "HTMLView",
            "description": "",
            "description_tooltip": null,
            "layout": "IPY_MODEL_06d1336963764996ac315c99409e952b",
            "placeholder": "​",
            "style": "IPY_MODEL_d4fbbbf1fb9145ce9bb0c6eb60350864",
            "value": " 448/1407 [01:05&lt;02:19,  6.85it/s, v_num=fzk8]"
          }
        },
        "2caa7fe00dbf406ebd462e2fa4aac61f": {
          "model_module": "@jupyter-widgets/base",
          "model_name": "LayoutModel",
          "model_module_version": "1.2.0",
          "state": {
            "_model_module": "@jupyter-widgets/base",
            "_model_module_version": "1.2.0",
            "_model_name": "LayoutModel",
            "_view_count": null,
            "_view_module": "@jupyter-widgets/base",
            "_view_module_version": "1.2.0",
            "_view_name": "LayoutView",
            "align_content": null,
            "align_items": null,
            "align_self": null,
            "border": null,
            "bottom": null,
            "display": "inline-flex",
            "flex": null,
            "flex_flow": "row wrap",
            "grid_area": null,
            "grid_auto_columns": null,
            "grid_auto_flow": null,
            "grid_auto_rows": null,
            "grid_column": null,
            "grid_gap": null,
            "grid_row": null,
            "grid_template_areas": null,
            "grid_template_columns": null,
            "grid_template_rows": null,
            "height": null,
            "justify_content": null,
            "justify_items": null,
            "left": null,
            "margin": null,
            "max_height": null,
            "max_width": null,
            "min_height": null,
            "min_width": null,
            "object_fit": null,
            "object_position": null,
            "order": null,
            "overflow": null,
            "overflow_x": null,
            "overflow_y": null,
            "padding": null,
            "right": null,
            "top": null,
            "visibility": null,
            "width": "100%"
          }
        },
        "0b0df9ac79284278af38380f62d096c9": {
          "model_module": "@jupyter-widgets/base",
          "model_name": "LayoutModel",
          "model_module_version": "1.2.0",
          "state": {
            "_model_module": "@jupyter-widgets/base",
            "_model_module_version": "1.2.0",
            "_model_name": "LayoutModel",
            "_view_count": null,
            "_view_module": "@jupyter-widgets/base",
            "_view_module_version": "1.2.0",
            "_view_name": "LayoutView",
            "align_content": null,
            "align_items": null,
            "align_self": null,
            "border": null,
            "bottom": null,
            "display": null,
            "flex": null,
            "flex_flow": null,
            "grid_area": null,
            "grid_auto_columns": null,
            "grid_auto_flow": null,
            "grid_auto_rows": null,
            "grid_column": null,
            "grid_gap": null,
            "grid_row": null,
            "grid_template_areas": null,
            "grid_template_columns": null,
            "grid_template_rows": null,
            "height": null,
            "justify_content": null,
            "justify_items": null,
            "left": null,
            "margin": null,
            "max_height": null,
            "max_width": null,
            "min_height": null,
            "min_width": null,
            "object_fit": null,
            "object_position": null,
            "order": null,
            "overflow": null,
            "overflow_x": null,
            "overflow_y": null,
            "padding": null,
            "right": null,
            "top": null,
            "visibility": null,
            "width": null
          }
        },
        "d446f52d04f14f729344bd3292526125": {
          "model_module": "@jupyter-widgets/controls",
          "model_name": "DescriptionStyleModel",
          "model_module_version": "1.5.0",
          "state": {
            "_model_module": "@jupyter-widgets/controls",
            "_model_module_version": "1.5.0",
            "_model_name": "DescriptionStyleModel",
            "_view_count": null,
            "_view_module": "@jupyter-widgets/base",
            "_view_module_version": "1.2.0",
            "_view_name": "StyleView",
            "description_width": ""
          }
        },
        "c1b22bc488e345aebd796d2a23be7a96": {
          "model_module": "@jupyter-widgets/base",
          "model_name": "LayoutModel",
          "model_module_version": "1.2.0",
          "state": {
            "_model_module": "@jupyter-widgets/base",
            "_model_module_version": "1.2.0",
            "_model_name": "LayoutModel",
            "_view_count": null,
            "_view_module": "@jupyter-widgets/base",
            "_view_module_version": "1.2.0",
            "_view_name": "LayoutView",
            "align_content": null,
            "align_items": null,
            "align_self": null,
            "border": null,
            "bottom": null,
            "display": null,
            "flex": "2",
            "flex_flow": null,
            "grid_area": null,
            "grid_auto_columns": null,
            "grid_auto_flow": null,
            "grid_auto_rows": null,
            "grid_column": null,
            "grid_gap": null,
            "grid_row": null,
            "grid_template_areas": null,
            "grid_template_columns": null,
            "grid_template_rows": null,
            "height": null,
            "justify_content": null,
            "justify_items": null,
            "left": null,
            "margin": null,
            "max_height": null,
            "max_width": null,
            "min_height": null,
            "min_width": null,
            "object_fit": null,
            "object_position": null,
            "order": null,
            "overflow": null,
            "overflow_x": null,
            "overflow_y": null,
            "padding": null,
            "right": null,
            "top": null,
            "visibility": null,
            "width": null
          }
        },
        "8c60677bed494e61a3b44a1912cf4a3c": {
          "model_module": "@jupyter-widgets/controls",
          "model_name": "ProgressStyleModel",
          "model_module_version": "1.5.0",
          "state": {
            "_model_module": "@jupyter-widgets/controls",
            "_model_module_version": "1.5.0",
            "_model_name": "ProgressStyleModel",
            "_view_count": null,
            "_view_module": "@jupyter-widgets/base",
            "_view_module_version": "1.2.0",
            "_view_name": "StyleView",
            "bar_color": null,
            "description_width": ""
          }
        },
        "06d1336963764996ac315c99409e952b": {
          "model_module": "@jupyter-widgets/base",
          "model_name": "LayoutModel",
          "model_module_version": "1.2.0",
          "state": {
            "_model_module": "@jupyter-widgets/base",
            "_model_module_version": "1.2.0",
            "_model_name": "LayoutModel",
            "_view_count": null,
            "_view_module": "@jupyter-widgets/base",
            "_view_module_version": "1.2.0",
            "_view_name": "LayoutView",
            "align_content": null,
            "align_items": null,
            "align_self": null,
            "border": null,
            "bottom": null,
            "display": null,
            "flex": null,
            "flex_flow": null,
            "grid_area": null,
            "grid_auto_columns": null,
            "grid_auto_flow": null,
            "grid_auto_rows": null,
            "grid_column": null,
            "grid_gap": null,
            "grid_row": null,
            "grid_template_areas": null,
            "grid_template_columns": null,
            "grid_template_rows": null,
            "height": null,
            "justify_content": null,
            "justify_items": null,
            "left": null,
            "margin": null,
            "max_height": null,
            "max_width": null,
            "min_height": null,
            "min_width": null,
            "object_fit": null,
            "object_position": null,
            "order": null,
            "overflow": null,
            "overflow_x": null,
            "overflow_y": null,
            "padding": null,
            "right": null,
            "top": null,
            "visibility": null,
            "width": null
          }
        },
        "d4fbbbf1fb9145ce9bb0c6eb60350864": {
          "model_module": "@jupyter-widgets/controls",
          "model_name": "DescriptionStyleModel",
          "model_module_version": "1.5.0",
          "state": {
            "_model_module": "@jupyter-widgets/controls",
            "_model_module_version": "1.5.0",
            "_model_name": "DescriptionStyleModel",
            "_view_count": null,
            "_view_module": "@jupyter-widgets/base",
            "_view_module_version": "1.2.0",
            "_view_name": "StyleView",
            "description_width": ""
          }
        }
      }
    }
  },
  "nbformat": 4,
  "nbformat_minor": 0
}
