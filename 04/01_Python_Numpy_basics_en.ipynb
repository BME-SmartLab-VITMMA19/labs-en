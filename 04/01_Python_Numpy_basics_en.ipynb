{
  "cells": [
    {
      "cell_type": "markdown",
      "metadata": {
        "id": "Y7XcN7oNLVAh"
      },
      "source": [
        "# Copyright\n",
        "\n",
        "<PRE>\n",
        "This notebook was created as part of the \"Deep learning / VITMMA19\" class at\n",
        "Budapest University of Technology and Economics, Hungary,\n",
        "https://portal.vik.bme.hu/kepzes/targyak/VITMMA19\n",
        "Based on the official documentation:\n",
        "https://numpy.org/doc/stable/user/quickstart.html\n",
        "\n",
        "Any re-use or publication of any part of the notebook is only allowed with the\n",
        " written consent of the authors.\n",
        "\n",
        "2023 (c) Tamás Gábor Csapó, Márk Császár,  Bálint Gyires-Tóth (toth.b kukac tmit pont bme pont hu)\n",
        "</PRE>"
      ]
    },
    {
      "cell_type": "markdown",
      "metadata": {
        "id": "uLA9POvLLVAp"
      },
      "source": [
        "# Numpy package"
      ]
    },
    {
      "cell_type": "markdown",
      "metadata": {
        "id": "6oP4a4seLVAq"
      },
      "source": [
        "One of the most commonly used Python packages for machine learning and thus deep learning is Numpy, which can be loaded with the following command and referred to later as np."
      ]
    },
    {
      "cell_type": "code",
      "execution_count": 2,
      "metadata": {
        "id": "VTAibb7FLVAr"
      },
      "outputs": [],
      "source": [
        "import numpy as np"
      ]
    },
    {
      "cell_type": "markdown",
      "metadata": {
        "id": "P9w_xy0ALVAs"
      },
      "source": [
        "Numpy is basically used to handle homogeneous, one- or multidimensional matrices (= arrays = tensors). The elements of these matrices are numbers of the same type, and their position within the array can be specified by positive integers."
      ]
    },
    {
      "cell_type": "markdown",
      "metadata": {
        "id": "3C_0U3tiLVAt"
      },
      "source": [
        "# Numpy arrays - properties\n"
      ]
    },
    {
      "cell_type": "markdown",
      "metadata": {
        "id": "3f2bQglyLVAt"
      },
      "source": [
        "Important, frequently used features:\n",
        "\n",
        "    ndarray.ndim - Dimension of the array.\n",
        "\n",
        "    ndarray.shape - The shape of the array, which gives the size of the array along each dimension. For 2 dimensional matrices, n rows and m columns will be a matrix shape (n,m).\n",
        "\n",
        "    ndarray.size - The number of elements in the array, equal to the product of the dimensions along each dimension.\n",
        "\n",
        "    ndarray.dtype - The type of elements in the array.\n",
        "\n",
        "Other notable features (we will rarely use these):\n",
        "\n",
        "    ndarray.itemsize - The size of each item, expressed in bytes, in accordance with the previously mentioned type.\n",
        "\n",
        "    ndarray.data - Buffer containing all the items in the array.\n"
      ]
    },
    {
      "cell_type": "markdown",
      "metadata": {
        "id": "3yJq9_keLVAu"
      },
      "source": [
        "# Numpy arrays - how to create"
      ]
    },
    {
      "cell_type": "markdown",
      "metadata": {
        "id": "ozgRCgMzLVAu"
      },
      "source": [
        "Data types relevant for deep learning systems:\n",
        "\n",
        "    bool_ (e.g. binary data)\n",
        "    \n",
        "    int_ (e.g. RGB channels of images)\n",
        "    \n",
        "    float_ (32 bits, general data)\n",
        "    \n",
        "    float16_ (16-bit, half-precision, general data): gaining more and more space because of its advantages (faster, more memory efficient and good for deep learning)"
      ]
    },
    {
      "cell_type": "markdown",
      "metadata": {
        "id": "ln8iN5TKLVAw"
      },
      "source": [
        "Wrong solution:"
      ]
    },
    {
      "cell_type": "code",
      "execution_count": 3,
      "metadata": {
        "colab": {
          "base_uri": "https://localhost:8080/",
          "height": 181
        },
        "id": "CgXSy9SKLVAx",
        "outputId": "c148646c-5c96-4f84-b4e6-8e2aae20ac9e"
      },
      "outputs": [
        {
          "output_type": "error",
          "ename": "TypeError",
          "evalue": "ignored",
          "traceback": [
            "\u001b[0;31m---------------------------------------------------------------------------\u001b[0m",
            "\u001b[0;31mTypeError\u001b[0m                                 Traceback (most recent call last)",
            "\u001b[0;32m<ipython-input-3-7681c71c58ae>\u001b[0m in \u001b[0;36m<cell line: 1>\u001b[0;34m()\u001b[0m\n\u001b[0;32m----> 1\u001b[0;31m \u001b[0ma\u001b[0m \u001b[0;34m=\u001b[0m \u001b[0mnp\u001b[0m\u001b[0;34m.\u001b[0m\u001b[0marray\u001b[0m\u001b[0;34m(\u001b[0m\u001b[0;36m1\u001b[0m\u001b[0;34m,\u001b[0m\u001b[0;36m2\u001b[0m\u001b[0;34m,\u001b[0m\u001b[0;36m3\u001b[0m\u001b[0;34m,\u001b[0m\u001b[0;36m4\u001b[0m\u001b[0;34m)\u001b[0m    \u001b[0;31m# WRONG\u001b[0m\u001b[0;34m\u001b[0m\u001b[0;34m\u001b[0m\u001b[0m\n\u001b[0m",
            "\u001b[0;31mTypeError\u001b[0m: array() takes from 1 to 2 positional arguments but 4 were given"
          ]
        }
      ],
      "source": [
        "a = np.array(1,2,3,4)    # WRONG\n"
      ]
    },
    {
      "cell_type": "markdown",
      "metadata": {
        "id": "ITAJw5HQLVA1"
      },
      "source": [
        "Right solution:"
      ]
    },
    {
      "cell_type": "code",
      "execution_count": 4,
      "metadata": {
        "colab": {
          "base_uri": "https://localhost:8080/"
        },
        "id": "BZcEmBGrLVA2",
        "outputId": "9d6577de-f8f9-45fd-ed50-b9bf7ce271ec"
      },
      "outputs": [
        {
          "output_type": "execute_result",
          "data": {
            "text/plain": [
              "array([1, 2, 3, 4])"
            ]
          },
          "metadata": {},
          "execution_count": 4
        }
      ],
      "source": [
        "a = np.array([1,2,3,4])  # RIGHT\n",
        "a"
      ]
    },
    {
      "cell_type": "markdown",
      "metadata": {
        "id": "NBwl5-G7LVA3"
      },
      "source": [
        "Create a 2-dimensional Numpy array:\n",
        "\n",
        "\n"
      ]
    },
    {
      "cell_type": "code",
      "execution_count": 5,
      "metadata": {
        "colab": {
          "base_uri": "https://localhost:8080/"
        },
        "id": "0rtVhuudLVA3",
        "outputId": "787f3345-2b16-43a9-f7e4-373077b3e989"
      },
      "outputs": [
        {
          "output_type": "execute_result",
          "data": {
            "text/plain": [
              "array([[1.5, 2. , 3. ],\n",
              "       [4. , 5. , 6. ]])"
            ]
          },
          "metadata": {},
          "execution_count": 5
        }
      ],
      "source": [
        "b = np.array([(1.5,2,3), (4,5,6)])\n",
        "b"
      ]
    },
    {
      "cell_type": "markdown",
      "metadata": {
        "id": "wbz_yz3ZLVA4"
      },
      "source": [
        "When declaring an array, you can also specify the type of the elements (and thus the array):"
      ]
    },
    {
      "cell_type": "code",
      "execution_count": 6,
      "metadata": {
        "colab": {
          "base_uri": "https://localhost:8080/"
        },
        "id": "J3ltG2KpLVA4",
        "outputId": "a362c004-0f34-4e8f-dfd2-0c18ba6f497f"
      },
      "outputs": [
        {
          "output_type": "execute_result",
          "data": {
            "text/plain": [
              "array([[1.2, 2.3],\n",
              "       [3.7, 4.5]])"
            ]
          },
          "metadata": {},
          "execution_count": 6
        }
      ],
      "source": [
        "c = np.array( [ [1.2,2.3], [3.7,4.5] ], dtype=float )\n",
        "c"
      ]
    },
    {
      "cell_type": "markdown",
      "metadata": {
        "id": "D_fQnpwvLVA5"
      },
      "source": [
        "Create a 3x4 array of all zeros, using the numpy.zeros() function (often used):"
      ]
    },
    {
      "cell_type": "code",
      "execution_count": 7,
      "metadata": {
        "colab": {
          "base_uri": "https://localhost:8080/"
        },
        "id": "uCmgclIWLVA5",
        "outputId": "b64fe843-486c-4dd5-e9ba-0e692f9f0c3e"
      },
      "outputs": [
        {
          "output_type": "execute_result",
          "data": {
            "text/plain": [
              "array([[0., 0., 0., 0.],\n",
              "       [0., 0., 0., 0.],\n",
              "       [0., 0., 0., 0.]])"
            ]
          },
          "metadata": {},
          "execution_count": 7
        }
      ],
      "source": [
        "d = np.zeros( (3,4) )\n",
        "d"
      ]
    },
    {
      "cell_type": "markdown",
      "metadata": {
        "id": "auw2Ab91LVA5"
      },
      "source": [
        "Create 2 arrays of size 3x4 (i.e. a 3D array) with numpy.ones() containing all ones (16-bit integers):"
      ]
    },
    {
      "cell_type": "code",
      "execution_count": 8,
      "metadata": {
        "colab": {
          "base_uri": "https://localhost:8080/"
        },
        "id": "n4RviaKqLVA6",
        "outputId": "eb840c0a-dc4a-4844-c790-0d5eee3746af"
      },
      "outputs": [
        {
          "output_type": "execute_result",
          "data": {
            "text/plain": [
              "array([[[1, 1, 1, 1],\n",
              "        [1, 1, 1, 1],\n",
              "        [1, 1, 1, 1]],\n",
              "\n",
              "       [[1, 1, 1, 1],\n",
              "        [1, 1, 1, 1],\n",
              "        [1, 1, 1, 1]]], dtype=int16)"
            ]
          },
          "metadata": {},
          "execution_count": 8
        }
      ],
      "source": [
        "e = np.ones( (2,3,4), dtype=np.int16 )\n",
        "e"
      ]
    },
    {
      "cell_type": "markdown",
      "metadata": {
        "id": "NkIX5K_2LVA7"
      },
      "source": [
        "Create a 2x3 empty array using numpy.empty(). Numpy then assigns memory addresses to the elements of the array, which will be set to the values contained in the memory addresses."
      ]
    },
    {
      "cell_type": "code",
      "execution_count": 9,
      "metadata": {
        "colab": {
          "base_uri": "https://localhost:8080/"
        },
        "id": "CX_0p2BDLVA7",
        "outputId": "10d48663-2dd6-4fd7-8777-5ee947bdd2bf"
      },
      "outputs": [
        {
          "output_type": "execute_result",
          "data": {
            "text/plain": [
              "array([[1.5, 2. , 3. ],\n",
              "       [4. , 5. , 6. ]])"
            ]
          },
          "metadata": {},
          "execution_count": 9
        }
      ],
      "source": [
        "f = np.empty( (2,3) )\n",
        "f"
      ]
    },
    {
      "cell_type": "markdown",
      "metadata": {
        "id": "tXjXX_LzLVA8"
      },
      "source": [
        "linspace: from the interval bounded by the first and second argument, the third argument places a number of elements equidistant from each other and writes them into a numpy array (often used)."
      ]
    },
    {
      "cell_type": "code",
      "execution_count": 10,
      "metadata": {
        "colab": {
          "base_uri": "https://localhost:8080/"
        },
        "id": "HgFfu0NYLVA8",
        "outputId": "88319240-d910-4954-812d-e0383ffeeed9"
      },
      "outputs": [
        {
          "output_type": "execute_result",
          "data": {
            "text/plain": [
              "array([0.  , 0.25, 0.5 , 0.75, 1.  , 1.25, 1.5 , 1.75, 2.  ])"
            ]
          },
          "metadata": {},
          "execution_count": 10
        }
      ],
      "source": [
        "g = np.linspace( 0, 2, 9 )  # generates 9 numbers between 0 and 2\n",
        "g"
      ]
    },
    {
      "cell_type": "markdown",
      "metadata": {
        "id": "oq8WypxGLVA9"
      },
      "source": [
        "The same function from -2pi and 2pi with 15 elements:"
      ]
    },
    {
      "cell_type": "code",
      "execution_count": 11,
      "metadata": {
        "colab": {
          "base_uri": "https://localhost:8080/"
        },
        "id": "-I6N5PPjLVA9",
        "outputId": "7675392d-d7b4-481d-88a3-917e37320477"
      },
      "outputs": [
        {
          "output_type": "execute_result",
          "data": {
            "text/plain": [
              "array([-6.28318531, -5.38558741, -4.48798951, -3.5903916 , -2.6927937 ,\n",
              "       -1.7951958 , -0.8975979 ,  0.        ,  0.8975979 ,  1.7951958 ,\n",
              "        2.6927937 ,  3.5903916 ,  4.48798951,  5.38558741,  6.28318531])"
            ]
          },
          "metadata": {},
          "execution_count": 11
        }
      ],
      "source": [
        "h = np.linspace( -2*np.pi, 2*np.pi , 15 )\n",
        "h"
      ]
    },
    {
      "cell_type": "markdown",
      "metadata": {
        "id": "O3ZOWUnOLVA-"
      },
      "source": [
        "Similar to linspace(), but it is best used when the scaling measure is an integer. If you do not specify a range boundary or scale as a parameter, you can simply create a new array which will be automatically populated."
      ]
    },
    {
      "cell_type": "code",
      "execution_count": 12,
      "metadata": {
        "colab": {
          "base_uri": "https://localhost:8080/"
        },
        "id": "ADp3MG0xLVA-",
        "outputId": "e201187a-b275-444e-ab4f-5d0b95b41fd7"
      },
      "outputs": [
        {
          "output_type": "execute_result",
          "data": {
            "text/plain": [
              "array([ 0,  1,  2,  3,  4,  5,  6,  7,  8,  9, 10, 11, 12, 13, 14])"
            ]
          },
          "metadata": {},
          "execution_count": 12
        }
      ],
      "source": [
        "i = np.arange(15)\n",
        "i"
      ]
    },
    {
      "cell_type": "markdown",
      "metadata": {
        "id": "k7ibGh8lLVA_"
      },
      "source": [
        "If too many array elements should be displayed, only the last elements of the ranges are visualised."
      ]
    },
    {
      "cell_type": "code",
      "execution_count": 13,
      "metadata": {
        "colab": {
          "base_uri": "https://localhost:8080/"
        },
        "id": "EKbCHee7LVA_",
        "outputId": "1d39a131-bf0d-40c1-c53d-c3b02e03836d"
      },
      "outputs": [
        {
          "output_type": "stream",
          "name": "stdout",
          "text": [
            "[[1. 0. 0. ... 0. 0. 0.]\n",
            " [0. 1. 0. ... 0. 0. 0.]\n",
            " [0. 0. 1. ... 0. 0. 0.]\n",
            " ...\n",
            " [0. 0. 0. ... 1. 0. 0.]\n",
            " [0. 0. 0. ... 0. 1. 0.]\n",
            " [0. 0. 0. ... 0. 0. 1.]]\n"
          ]
        }
      ],
      "source": [
        "print(np.eye(100))"
      ]
    },
    {
      "cell_type": "markdown",
      "metadata": {
        "id": "nbjNK3fbLVA_"
      },
      "source": [
        "# Basic operations"
      ]
    },
    {
      "cell_type": "markdown",
      "metadata": {
        "id": "Jnztfa-VLVBA"
      },
      "source": [
        "create an \"a\" array:"
      ]
    },
    {
      "cell_type": "code",
      "execution_count": 14,
      "metadata": {
        "colab": {
          "base_uri": "https://localhost:8080/"
        },
        "id": "sPoyeBIxLVBA",
        "outputId": "6b8544a6-c27b-41ca-cd62-eecaf62e46a0"
      },
      "outputs": [
        {
          "output_type": "execute_result",
          "data": {
            "text/plain": [
              "array([20, 30, 40, 50])"
            ]
          },
          "metadata": {},
          "execution_count": 14
        }
      ],
      "source": [
        "a = np.array( [20,30,40,50] )\n",
        "a"
      ]
    },
    {
      "cell_type": "markdown",
      "metadata": {
        "id": "a0aszwauLVBB"
      },
      "source": [
        "creating a \"b\" array"
      ]
    },
    {
      "cell_type": "code",
      "execution_count": 15,
      "metadata": {
        "colab": {
          "base_uri": "https://localhost:8080/"
        },
        "id": "W1DSNPBOLVBB",
        "outputId": "4e5f5472-f2cb-4407-aa87-4ecefd74bf5f"
      },
      "outputs": [
        {
          "output_type": "execute_result",
          "data": {
            "text/plain": [
              "array([0, 1, 2, 3])"
            ]
          },
          "metadata": {},
          "execution_count": 15
        }
      ],
      "source": [
        "b = np.arange( 4 )\n",
        "b"
      ]
    },
    {
      "cell_type": "markdown",
      "metadata": {
        "id": "ponxneJJLVBB"
      },
      "source": [
        "Element-by-element subtraction:"
      ]
    },
    {
      "cell_type": "code",
      "execution_count": 16,
      "metadata": {
        "colab": {
          "base_uri": "https://localhost:8080/"
        },
        "id": "xPsaX6bILVBB",
        "outputId": "e046e357-579e-4851-c625-2e1d6dcf6be7"
      },
      "outputs": [
        {
          "output_type": "execute_result",
          "data": {
            "text/plain": [
              "array([20, 29, 38, 47])"
            ]
          },
          "metadata": {},
          "execution_count": 16
        }
      ],
      "source": [
        "c = a-b\n",
        "c"
      ]
    },
    {
      "cell_type": "markdown",
      "metadata": {
        "id": "fXIHVOtSLVBC"
      },
      "source": [
        "the square of the elements of array \"b\":"
      ]
    },
    {
      "cell_type": "code",
      "execution_count": 17,
      "metadata": {
        "colab": {
          "base_uri": "https://localhost:8080/"
        },
        "id": "S_DJr2AALVBZ",
        "outputId": "07b98dd8-3cbf-4449-c270-9964ca2d30f9"
      },
      "outputs": [
        {
          "output_type": "execute_result",
          "data": {
            "text/plain": [
              "array([0, 1, 4, 9])"
            ]
          },
          "metadata": {},
          "execution_count": 17
        }
      ],
      "source": [
        "b**2"
      ]
    },
    {
      "cell_type": "markdown",
      "metadata": {
        "id": "ysfZF2j1LVBa"
      },
      "source": [
        "Calculate the 10*sine values of the elements of the array. In the case of Numpy functions, it is sufficient to pass only the array itself to the function. There is no need to iterate over all the elements."
      ]
    },
    {
      "cell_type": "code",
      "execution_count": 19,
      "metadata": {
        "colab": {
          "base_uri": "https://localhost:8080/"
        },
        "id": "Z2Y4WUo2LVBa",
        "outputId": "c070cbd2-25bf-438b-a93d-861d1614ffb1"
      },
      "outputs": [
        {
          "output_type": "execute_result",
          "data": {
            "text/plain": [
              "array([ 9.12945251, -9.88031624,  7.4511316 , -2.62374854])"
            ]
          },
          "metadata": {},
          "execution_count": 19
        }
      ],
      "source": [
        "10*np.sin(a)"
      ]
    },
    {
      "cell_type": "markdown",
      "metadata": {
        "id": "jnhyPESfLVBb"
      },
      "source": [
        "Check the condition and create a \"boolean\" array from the original array:"
      ]
    },
    {
      "cell_type": "code",
      "execution_count": 20,
      "metadata": {
        "colab": {
          "base_uri": "https://localhost:8080/"
        },
        "id": "gfvryEEYLVBb",
        "outputId": "ee4b6541-1518-4186-970c-677d2cc0a69b"
      },
      "outputs": [
        {
          "output_type": "execute_result",
          "data": {
            "text/plain": [
              "array([ True,  True, False, False])"
            ]
          },
          "metadata": {},
          "execution_count": 20
        }
      ],
      "source": [
        "a<35"
      ]
    },
    {
      "cell_type": "markdown",
      "metadata": {
        "id": "5-4-h-DnLVBc"
      },
      "source": [
        "Create \"A\" 2x2 array with predefined value:"
      ]
    },
    {
      "cell_type": "code",
      "execution_count": 21,
      "metadata": {
        "id": "x9m3GeeoLVBc"
      },
      "outputs": [],
      "source": [
        "A = np.array( [[1,1],\n",
        "              [0,1]] )"
      ]
    },
    {
      "cell_type": "markdown",
      "metadata": {
        "id": "h-6Eo3tvLVBc"
      },
      "source": [
        "Create \"B\" 2x2 array:"
      ]
    },
    {
      "cell_type": "code",
      "execution_count": 23,
      "metadata": {
        "id": "nzdaLIYqLVBc"
      },
      "outputs": [],
      "source": [
        "B = np.array( [[2,0],\n",
        "              [3,4]] )"
      ]
    },
    {
      "cell_type": "markdown",
      "metadata": {
        "id": "oCFadSg2LVBd"
      },
      "source": [
        "Element-wise multiplication of A and B:\n"
      ]
    },
    {
      "cell_type": "code",
      "execution_count": 24,
      "metadata": {
        "colab": {
          "base_uri": "https://localhost:8080/"
        },
        "id": "SMxvzwhULVBd",
        "outputId": "a98579e2-3bc9-46a6-b4d4-a3ed06db567f"
      },
      "outputs": [
        {
          "output_type": "execute_result",
          "data": {
            "text/plain": [
              "array([[2, 0],\n",
              "       [0, 4]])"
            ]
          },
          "metadata": {},
          "execution_count": 24
        }
      ],
      "source": [
        "A*B"
      ]
    },
    {
      "cell_type": "markdown",
      "metadata": {
        "id": "-Wmu0LsqLVBe"
      },
      "source": [
        "Matrix multiplication of A and B using numpy.dot(). (both lines do the same thing)\n",
        "."
      ]
    },
    {
      "cell_type": "code",
      "execution_count": 25,
      "metadata": {
        "colab": {
          "base_uri": "https://localhost:8080/"
        },
        "id": "F-QyFTxXLVBe",
        "outputId": "28c06ee9-5ce2-46fc-b3ff-cb44e2032bdf"
      },
      "outputs": [
        {
          "output_type": "execute_result",
          "data": {
            "text/plain": [
              "array([[5, 4],\n",
              "       [3, 4]])"
            ]
          },
          "metadata": {},
          "execution_count": 25
        }
      ],
      "source": [
        "np.dot(A, B)\n",
        "A.dot(B)"
      ]
    },
    {
      "cell_type": "markdown",
      "metadata": {
        "id": "tyjtFon1LVBe"
      },
      "source": [
        "Create an array \"a\" of ones and multiply each element of \"a\" by 3:"
      ]
    },
    {
      "cell_type": "code",
      "execution_count": 26,
      "metadata": {
        "colab": {
          "base_uri": "https://localhost:8080/"
        },
        "id": "p-lB9TLkLVBf",
        "outputId": "15025516-615d-4f8e-9420-6973bae48618"
      },
      "outputs": [
        {
          "output_type": "execute_result",
          "data": {
            "text/plain": [
              "array([[3, 3, 3],\n",
              "       [3, 3, 3]])"
            ]
          },
          "metadata": {},
          "execution_count": 26
        }
      ],
      "source": [
        "a = np.ones((2,3), dtype=int)\n",
        "a\n",
        "a *= 3\n",
        "a"
      ]
    },
    {
      "cell_type": "markdown",
      "metadata": {
        "id": "Rw4hdnfvLVBf"
      },
      "source": [
        "Create and fill a 2x3 matrix from the range [0.0, 1.0) randomly. (The two approaches do the same thing.)"
      ]
    },
    {
      "cell_type": "code",
      "execution_count": 29,
      "metadata": {
        "colab": {
          "base_uri": "https://localhost:8080/"
        },
        "id": "8Nd7gJCzLVBf",
        "outputId": "81a2c8eb-7a9d-4981-9626-d417671039bc"
      },
      "outputs": [
        {
          "output_type": "execute_result",
          "data": {
            "text/plain": [
              "array([[0.05532767, 0.95266721, 0.00450346],\n",
              "       [0.4318087 , 0.83570745, 0.16158628]])"
            ]
          },
          "metadata": {},
          "execution_count": 29
        }
      ],
      "source": [
        "b = np.random.random((2,3))\n",
        "b"
      ]
    },
    {
      "cell_type": "code",
      "execution_count": 30,
      "metadata": {
        "colab": {
          "base_uri": "https://localhost:8080/"
        },
        "id": "5tdZK4dxLVBg",
        "outputId": "d3346791-9e14-4f8a-dcaa-8cfa172f9d19"
      },
      "outputs": [
        {
          "output_type": "execute_result",
          "data": {
            "text/plain": [
              "array([[0.84412321, 0.92816326, 0.03354348],\n",
              "       [0.98354443, 0.01605153, 0.90275159]])"
            ]
          },
          "metadata": {},
          "execution_count": 30
        }
      ],
      "source": [
        "b = np.random.rand(2,3)\n",
        "b"
      ]
    },
    {
      "cell_type": "markdown",
      "metadata": {
        "id": "5LGyMMeWLVBg"
      },
      "source": [
        "You can also add the elements of array a to the elements of array b:"
      ]
    },
    {
      "cell_type": "code",
      "execution_count": 31,
      "metadata": {
        "colab": {
          "base_uri": "https://localhost:8080/"
        },
        "id": "-dfp65owLVBh",
        "outputId": "60671252-bf78-4320-ea8e-e74f65adb76a"
      },
      "outputs": [
        {
          "output_type": "execute_result",
          "data": {
            "text/plain": [
              "array([[3.84412321, 3.92816326, 3.03354348],\n",
              "       [3.98354443, 3.01605153, 3.90275159]])"
            ]
          },
          "metadata": {},
          "execution_count": 31
        }
      ],
      "source": [
        "b += a\n",
        "b"
      ]
    },
    {
      "cell_type": "markdown",
      "metadata": {
        "id": "WwoHMr9nLVBh"
      },
      "source": [
        "# Random seed"
      ]
    },
    {
      "cell_type": "markdown",
      "metadata": {
        "id": "5YWXT5BfLVBh"
      },
      "source": [
        "If you specify a random seed, then every time you restart your script, it will generate the same random numbers one after the other. This helps us to work with the same random numbers every time we run it, so that different results are not generated from different random numbers."
      ]
    },
    {
      "cell_type": "code",
      "execution_count": 32,
      "metadata": {
        "colab": {
          "base_uri": "https://localhost:8080/"
        },
        "id": "4Ec2MYmBLVBi",
        "outputId": "812a10f6-d1d7-4f78-cf3f-487d7e7095f2"
      },
      "outputs": [
        {
          "output_type": "stream",
          "name": "stdout",
          "text": [
            "[[0.37454012 0.95071431 0.73199394]\n",
            " [0.59865848 0.15601864 0.15599452]]\n",
            "[[0.05808361 0.86617615 0.60111501]\n",
            " [0.70807258 0.02058449 0.96990985]]\n",
            "[[0.83244264 0.21233911 0.18182497]\n",
            " [0.18340451 0.30424224 0.52475643]]\n",
            "[[0.43194502 0.29122914 0.61185289]\n",
            " [0.13949386 0.29214465 0.36636184]]\n"
          ]
        }
      ],
      "source": [
        "np.random.seed(42)\n",
        "print(np.random.rand(2,3))\n",
        "print(np.random.rand(2,3))\n",
        "print(np.random.rand(2,3))\n",
        "print(np.random.rand(2,3))"
      ]
    },
    {
      "cell_type": "code",
      "execution_count": 33,
      "metadata": {
        "colab": {
          "base_uri": "https://localhost:8080/"
        },
        "id": "YoF3aohvLVBi",
        "outputId": "87192e91-b86b-418b-ffe2-68b1bdff6fc0"
      },
      "outputs": [
        {
          "output_type": "stream",
          "name": "stdout",
          "text": [
            "[[0.37454012 0.95071431 0.73199394]\n",
            " [0.59865848 0.15601864 0.15599452]]\n",
            "[[0.05808361 0.86617615 0.60111501]\n",
            " [0.70807258 0.02058449 0.96990985]]\n",
            "[[0.83244264 0.21233911 0.18182497]\n",
            " [0.18340451 0.30424224 0.52475643]]\n",
            "[[0.43194502 0.29122914 0.61185289]\n",
            " [0.13949386 0.29214465 0.36636184]]\n"
          ]
        }
      ],
      "source": [
        "np.random.seed(42)\n",
        "print(np.random.rand(2,3))\n",
        "print(np.random.rand(2,3))\n",
        "print(np.random.rand(2,3))\n",
        "print(np.random.rand(2,3))"
      ]
    },
    {
      "cell_type": "markdown",
      "metadata": {
        "id": "KG6-QqcVLVBj"
      },
      "source": [
        "# Unary operators"
      ]
    },
    {
      "cell_type": "markdown",
      "metadata": {
        "id": "KQDThEXgLVBj"
      },
      "source": [
        "Create and fill a 3x4 array with numpy.arange():"
      ]
    },
    {
      "cell_type": "code",
      "execution_count": 34,
      "metadata": {
        "colab": {
          "base_uri": "https://localhost:8080/"
        },
        "id": "z-4ItZ9wLVBj",
        "outputId": "2fd2a57e-cf7d-4cf4-e45e-4c01f645df1b"
      },
      "outputs": [
        {
          "output_type": "execute_result",
          "data": {
            "text/plain": [
              "array([[ 0,  1,  2,  3],\n",
              "       [ 4,  5,  6,  7],\n",
              "       [ 8,  9, 10, 11]])"
            ]
          },
          "metadata": {},
          "execution_count": 34
        }
      ],
      "source": [
        "b = np.arange(12).reshape(3,4)\n",
        "b"
      ]
    },
    {
      "cell_type": "markdown",
      "metadata": {
        "id": "oPMoHmYSLVBk"
      },
      "source": [
        "Calculation of column and row sums:"
      ]
    },
    {
      "cell_type": "code",
      "execution_count": 35,
      "metadata": {
        "colab": {
          "base_uri": "https://localhost:8080/"
        },
        "id": "xEgGQTeyLVBk",
        "outputId": "6ba9740c-aedb-474f-9d72-317e3fcf986f"
      },
      "outputs": [
        {
          "output_type": "execute_result",
          "data": {
            "text/plain": [
              "array([12, 15, 18, 21])"
            ]
          },
          "metadata": {},
          "execution_count": 35
        }
      ],
      "source": [
        "b.sum(axis=0)"
      ]
    },
    {
      "cell_type": "code",
      "execution_count": 36,
      "metadata": {
        "colab": {
          "base_uri": "https://localhost:8080/"
        },
        "id": "-2j5309ZLVBl",
        "outputId": "d42d2b59-b742-4203-d943-f82261658b00"
      },
      "outputs": [
        {
          "output_type": "execute_result",
          "data": {
            "text/plain": [
              "array([ 6, 22, 38])"
            ]
          },
          "metadata": {},
          "execution_count": 36
        }
      ],
      "source": [
        "b.sum(axis=1)"
      ]
    },
    {
      "cell_type": "markdown",
      "metadata": {
        "id": "drroCaVnLVBl"
      },
      "source": [
        "The smallest elements per column and per row within the array:"
      ]
    },
    {
      "cell_type": "code",
      "execution_count": 37,
      "metadata": {
        "colab": {
          "base_uri": "https://localhost:8080/"
        },
        "id": "kesLKPk-LVBl",
        "outputId": "9137c2f5-7bf5-4841-a1c3-79a1c5865b14"
      },
      "outputs": [
        {
          "output_type": "execute_result",
          "data": {
            "text/plain": [
              "array([0, 1, 2, 3])"
            ]
          },
          "metadata": {},
          "execution_count": 37
        }
      ],
      "source": [
        "b.min(axis=0)"
      ]
    },
    {
      "cell_type": "code",
      "execution_count": 38,
      "metadata": {
        "colab": {
          "base_uri": "https://localhost:8080/"
        },
        "id": "k_PDucGALVBm",
        "outputId": "30ce3be9-58ff-4e5b-81f5-db05668e0bdd"
      },
      "outputs": [
        {
          "output_type": "execute_result",
          "data": {
            "text/plain": [
              "array([0, 4, 8])"
            ]
          },
          "metadata": {},
          "execution_count": 38
        }
      ],
      "source": [
        "b.min(axis=1)"
      ]
    },
    {
      "cell_type": "markdown",
      "metadata": {
        "id": "9t6mHdBTLVBm"
      },
      "source": [
        "Cumulative sums per column and per row:"
      ]
    },
    {
      "cell_type": "code",
      "execution_count": 39,
      "metadata": {
        "colab": {
          "base_uri": "https://localhost:8080/"
        },
        "id": "Y80HJ68ILVBm",
        "outputId": "fc74456b-05e6-47ee-9147-855cdc3ab85f"
      },
      "outputs": [
        {
          "output_type": "execute_result",
          "data": {
            "text/plain": [
              "array([[ 0,  1,  2,  3],\n",
              "       [ 4,  6,  8, 10],\n",
              "       [12, 15, 18, 21]])"
            ]
          },
          "metadata": {},
          "execution_count": 39
        }
      ],
      "source": [
        "b.cumsum(axis=0)"
      ]
    },
    {
      "cell_type": "code",
      "execution_count": 40,
      "metadata": {
        "colab": {
          "base_uri": "https://localhost:8080/"
        },
        "id": "UWZ_AoZyLVBn",
        "outputId": "4681ad3c-483e-494e-a966-b4c5f99360ab"
      },
      "outputs": [
        {
          "output_type": "execute_result",
          "data": {
            "text/plain": [
              "array([[ 0,  1,  3,  6],\n",
              "       [ 4,  9, 15, 22],\n",
              "       [ 8, 17, 27, 38]])"
            ]
          },
          "metadata": {},
          "execution_count": 40
        }
      ],
      "source": [
        "b.cumsum(axis=1)"
      ]
    },
    {
      "cell_type": "markdown",
      "metadata": {
        "id": "allsiC99LVBn"
      },
      "source": [
        "If no *axis* parameter is specified, it performs the operation on the whole array:"
      ]
    },
    {
      "cell_type": "code",
      "execution_count": 41,
      "metadata": {
        "colab": {
          "base_uri": "https://localhost:8080/"
        },
        "id": "IDtvkPmrLVBo",
        "outputId": "a115ccdd-1eec-4837-a096-af08e9c72e94"
      },
      "outputs": [
        {
          "output_type": "execute_result",
          "data": {
            "text/plain": [
              "66"
            ]
          },
          "metadata": {},
          "execution_count": 41
        }
      ],
      "source": [
        "b.sum()"
      ]
    },
    {
      "cell_type": "code",
      "execution_count": 42,
      "metadata": {
        "colab": {
          "base_uri": "https://localhost:8080/"
        },
        "id": "vnEyqHXsLVBo",
        "outputId": "507032b8-3e28-4fdc-feb9-77fd1a09e7fd"
      },
      "outputs": [
        {
          "output_type": "execute_result",
          "data": {
            "text/plain": [
              "0"
            ]
          },
          "metadata": {},
          "execution_count": 42
        }
      ],
      "source": [
        "b.min()"
      ]
    },
    {
      "cell_type": "code",
      "execution_count": 43,
      "metadata": {
        "colab": {
          "base_uri": "https://localhost:8080/"
        },
        "id": "Pq7AxkiILVBp",
        "outputId": "2473f27b-9abb-499f-99a6-24b66f929063"
      },
      "outputs": [
        {
          "output_type": "execute_result",
          "data": {
            "text/plain": [
              "array([ 0,  1,  3,  6, 10, 15, 21, 28, 36, 45, 55, 66])"
            ]
          },
          "metadata": {},
          "execution_count": 43
        }
      ],
      "source": [
        "b.cumsum()"
      ]
    },
    {
      "cell_type": "markdown",
      "metadata": {
        "id": "irPqETsBLVBp"
      },
      "source": [
        "# Indexing\n"
      ]
    },
    {
      "cell_type": "markdown",
      "metadata": {
        "id": "ANHKcSuzLVBq"
      },
      "source": [
        "Cube of first 10 non-negative integers:"
      ]
    },
    {
      "cell_type": "code",
      "execution_count": 44,
      "metadata": {
        "colab": {
          "base_uri": "https://localhost:8080/"
        },
        "id": "Q0qmiNE2LVBq",
        "outputId": "6b527279-f6fe-4659-ff0a-7d557caf6c5e"
      },
      "outputs": [
        {
          "output_type": "execute_result",
          "data": {
            "text/plain": [
              "array([  0,   1,   8,  27,  64, 125, 216, 343, 512, 729])"
            ]
          },
          "metadata": {},
          "execution_count": 44
        }
      ],
      "source": [
        "a = np.arange(10)**3\n",
        "a"
      ]
    },
    {
      "cell_type": "markdown",
      "metadata": {
        "id": "Wq9LNYENLVBw"
      },
      "source": [
        "The numbering of the arrays starts from 0."
      ]
    },
    {
      "cell_type": "code",
      "execution_count": 45,
      "metadata": {
        "colab": {
          "base_uri": "https://localhost:8080/"
        },
        "id": "wNdj6u8KLVBx",
        "outputId": "6b82cbd6-3a16-46ec-d845-7387aae65b66"
      },
      "outputs": [
        {
          "output_type": "execute_result",
          "data": {
            "text/plain": [
              "8"
            ]
          },
          "metadata": {},
          "execution_count": 45
        }
      ],
      "source": [
        "a[2]"
      ]
    },
    {
      "cell_type": "markdown",
      "metadata": {
        "id": "C1R8JU4wLVBy"
      },
      "source": [
        "Select an interval within an array. The upper limit of the interval is not included in the selection."
      ]
    },
    {
      "cell_type": "code",
      "execution_count": 46,
      "metadata": {
        "colab": {
          "base_uri": "https://localhost:8080/"
        },
        "id": "unXNkOhZLVBy",
        "outputId": "a5fccbf0-93ee-40d6-c991-0e11f9f4131d"
      },
      "outputs": [
        {
          "output_type": "execute_result",
          "data": {
            "text/plain": [
              "array([ 8, 27, 64])"
            ]
          },
          "metadata": {},
          "execution_count": 46
        }
      ],
      "source": [
        "a[2:5]"
      ]
    },
    {
      "cell_type": "markdown",
      "metadata": {
        "id": "7nGCBOcnLVBy"
      },
      "source": [
        "From the first element to the sixth, we give every second element a value of 1000:"
      ]
    },
    {
      "cell_type": "code",
      "execution_count": 47,
      "metadata": {
        "colab": {
          "base_uri": "https://localhost:8080/"
        },
        "id": "9baSg59ILVBz",
        "outputId": "9d8a2f4a-a813-405f-bd74-65f7901be179"
      },
      "outputs": [
        {
          "output_type": "execute_result",
          "data": {
            "text/plain": [
              "array([1000,    1, 1000,   27, 1000,  125,  216,  343,  512,  729])"
            ]
          },
          "metadata": {},
          "execution_count": 47
        }
      ],
      "source": [
        "a[:6:2] = 1000\n",
        "a"
      ]
    },
    {
      "cell_type": "markdown",
      "metadata": {
        "id": "3WB-ex3VLVBz"
      },
      "source": [
        "Invert row vector:"
      ]
    },
    {
      "cell_type": "code",
      "execution_count": 48,
      "metadata": {
        "colab": {
          "base_uri": "https://localhost:8080/"
        },
        "id": "hPQakwxvLVB0",
        "outputId": "df9e9e4f-39ee-4bc3-8128-da2c6617cc4b"
      },
      "outputs": [
        {
          "output_type": "execute_result",
          "data": {
            "text/plain": [
              "array([ 729,  512,  343,  216,  125, 1000,   27, 1000,    1, 1000])"
            ]
          },
          "metadata": {},
          "execution_count": 48
        }
      ],
      "source": [
        "a[ : :-1]"
      ]
    },
    {
      "cell_type": "markdown",
      "metadata": {
        "id": "j2ykP1T8LVB1"
      },
      "source": [
        "5x4-es matrix:"
      ]
    },
    {
      "cell_type": "code",
      "execution_count": 49,
      "metadata": {
        "colab": {
          "base_uri": "https://localhost:8080/"
        },
        "id": "as03vFGHLVB1",
        "outputId": "c495b76b-9393-4327-c803-fec8a46e3927"
      },
      "outputs": [
        {
          "output_type": "execute_result",
          "data": {
            "text/plain": [
              "array([[ 0,  1,  2,  3],\n",
              "       [ 4,  5,  6,  7],\n",
              "       [ 8,  9, 10, 11],\n",
              "       [12, 13, 14, 15],\n",
              "       [16, 17, 18, 19]])"
            ]
          },
          "metadata": {},
          "execution_count": 49
        }
      ],
      "source": [
        "b = np.arange(20).reshape(5,4)\n",
        "b"
      ]
    },
    {
      "cell_type": "markdown",
      "metadata": {
        "id": "JH7OWzCZLVB2"
      },
      "source": [
        "Both column and row indexes start from 0:"
      ]
    },
    {
      "cell_type": "code",
      "execution_count": 50,
      "metadata": {
        "colab": {
          "base_uri": "https://localhost:8080/"
        },
        "id": "YuTPtarFLVB2",
        "outputId": "c354f3a1-4dc3-4b80-b71c-ba56861ef33e"
      },
      "outputs": [
        {
          "output_type": "execute_result",
          "data": {
            "text/plain": [
              "11"
            ]
          },
          "metadata": {},
          "execution_count": 50
        }
      ],
      "source": [
        "b[2,3]"
      ]
    },
    {
      "cell_type": "markdown",
      "metadata": {
        "id": "D_mPAFCfLVB2"
      },
      "source": [
        "The first five elements of the second column:\n",
        "\n"
      ]
    },
    {
      "cell_type": "code",
      "execution_count": null,
      "metadata": {
        "id": "jzleN71gLVB2",
        "outputId": "9f12b70b-893d-4723-8535-92fa7ad2a6f8"
      },
      "outputs": [
        {
          "data": {
            "text/plain": [
              "array([ 1,  5,  9, 13, 17])"
            ]
          },
          "execution_count": 46,
          "metadata": {},
          "output_type": "execute_result"
        }
      ],
      "source": [
        "b[0:5, 1]"
      ]
    },
    {
      "cell_type": "markdown",
      "metadata": {
        "id": "ugl7gLmPLVB3"
      },
      "source": [
        "last row of array \"b\":"
      ]
    },
    {
      "cell_type": "code",
      "execution_count": 51,
      "metadata": {
        "colab": {
          "base_uri": "https://localhost:8080/"
        },
        "id": "IeVupuWKLVB3",
        "outputId": "a78a7745-4265-4a9f-c908-4718b0fb7216"
      },
      "outputs": [
        {
          "output_type": "execute_result",
          "data": {
            "text/plain": [
              "array([16, 17, 18, 19])"
            ]
          },
          "metadata": {},
          "execution_count": 51
        }
      ],
      "source": [
        "b[-1]"
      ]
    },
    {
      "cell_type": "markdown",
      "metadata": {
        "id": "AfYUH48ULVB3"
      },
      "source": [
        "# Manipulating the shape of the Numpy array"
      ]
    },
    {
      "cell_type": "markdown",
      "metadata": {
        "id": "sHVDkAYfLVB4"
      },
      "source": [
        "3x4-es matrix with random numbers:"
      ]
    },
    {
      "cell_type": "code",
      "execution_count": 52,
      "metadata": {
        "colab": {
          "base_uri": "https://localhost:8080/"
        },
        "id": "TnpVQnRtLVB4",
        "outputId": "2731b1c2-f9ee-4cfb-cf33-c6327dd1b470"
      },
      "outputs": [
        {
          "output_type": "execute_result",
          "data": {
            "text/plain": [
              "array([[4., 7., 1., 5.],\n",
              "       [5., 0., 6., 1.],\n",
              "       [0., 9., 9., 8.]])"
            ]
          },
          "metadata": {},
          "execution_count": 52
        }
      ],
      "source": [
        "a = np.floor(10*np.random.random((3,4)))\n",
        "a"
      ]
    },
    {
      "cell_type": "markdown",
      "metadata": {
        "id": "lG1o7OoQLVB4"
      },
      "source": [
        "Transform the original 3x4 matrix into a row vector with numpy.reshape():"
      ]
    },
    {
      "cell_type": "code",
      "execution_count": 53,
      "metadata": {
        "colab": {
          "base_uri": "https://localhost:8080/"
        },
        "id": "F8YCsIwtLVB5",
        "outputId": "d57bfa23-1824-4895-a7c2-5c294aa23f6b"
      },
      "outputs": [
        {
          "output_type": "execute_result",
          "data": {
            "text/plain": [
              "array([[4., 7., 1., 5., 5., 0., 6., 1., 0., 9., 9., 8.]])"
            ]
          },
          "metadata": {},
          "execution_count": 53
        }
      ],
      "source": [
        "a.reshape(1,12)"
      ]
    },
    {
      "cell_type": "markdown",
      "metadata": {
        "id": "GkKmDU2ALVB5"
      },
      "source": [
        "You can also use numpy.shape() if the number of elements is not changed by the transformation:"
      ]
    },
    {
      "cell_type": "code",
      "execution_count": 54,
      "metadata": {
        "colab": {
          "base_uri": "https://localhost:8080/"
        },
        "id": "srbJ70v1LVB5",
        "outputId": "88c0be4c-427b-466d-9c63-74a355d3960d"
      },
      "outputs": [
        {
          "output_type": "execute_result",
          "data": {
            "text/plain": [
              "array([[4., 7.],\n",
              "       [1., 5.],\n",
              "       [5., 0.],\n",
              "       [6., 1.],\n",
              "       [0., 9.],\n",
              "       [9., 8.]])"
            ]
          },
          "metadata": {},
          "execution_count": 54
        }
      ],
      "source": [
        "a.shape = (6, 2)\n",
        "a"
      ]
    },
    {
      "cell_type": "markdown",
      "metadata": {
        "id": "4Yo1unF8LVB6"
      },
      "source": [
        "The transpose of the matrix. It can be used only in case of 1 and 2 dimensions:"
      ]
    },
    {
      "cell_type": "code",
      "execution_count": 55,
      "metadata": {
        "colab": {
          "base_uri": "https://localhost:8080/"
        },
        "id": "POsr0qVuLVB6",
        "outputId": "ac5e83f0-69de-4b51-a854-230682a8ddac"
      },
      "outputs": [
        {
          "output_type": "execute_result",
          "data": {
            "text/plain": [
              "array([[4., 1., 5., 6., 0., 9.],\n",
              "       [7., 5., 0., 1., 9., 8.]])"
            ]
          },
          "metadata": {},
          "execution_count": 55
        }
      ],
      "source": [
        "a.T"
      ]
    },
    {
      "cell_type": "markdown",
      "metadata": {
        "id": "5Ft1G5kvLVB7"
      },
      "source": [
        "You can specify how many rows you want to see and the number of columns will be calculated automatically:"
      ]
    },
    {
      "cell_type": "code",
      "execution_count": 56,
      "metadata": {
        "colab": {
          "base_uri": "https://localhost:8080/"
        },
        "id": "So54abYwLVB7",
        "outputId": "3f358692-b7e2-45f3-c287-6be08c0d4e59"
      },
      "outputs": [
        {
          "output_type": "execute_result",
          "data": {
            "text/plain": [
              "array([[4., 7., 1., 5.],\n",
              "       [5., 0., 6., 1.],\n",
              "       [0., 9., 9., 8.]])"
            ]
          },
          "metadata": {},
          "execution_count": 56
        }
      ],
      "source": [
        "a.reshape(3,-1)"
      ]
    },
    {
      "cell_type": "markdown",
      "metadata": {
        "id": "1HMUJXp7LVB7"
      },
      "source": [
        "# Concatenating matrices"
      ]
    },
    {
      "cell_type": "markdown",
      "metadata": {
        "id": "8Go0Hvj4LVB8"
      },
      "source": [
        "Create 2 arrays of 2x2 with random elements. Numpy.floor() converts to the lower integer:"
      ]
    },
    {
      "cell_type": "code",
      "execution_count": 57,
      "metadata": {
        "colab": {
          "base_uri": "https://localhost:8080/"
        },
        "id": "cuB0RL7zLVB8",
        "outputId": "4d0fa7b6-4daa-48b8-ff47-08a0267b040c"
      },
      "outputs": [
        {
          "output_type": "execute_result",
          "data": {
            "text/plain": [
              "array([[3., 0.],\n",
              "       [6., 4.]])"
            ]
          },
          "metadata": {},
          "execution_count": 57
        }
      ],
      "source": [
        "a = np.floor(10*np.random.random((2,2)))\n",
        "a"
      ]
    },
    {
      "cell_type": "code",
      "execution_count": 58,
      "metadata": {
        "colab": {
          "base_uri": "https://localhost:8080/"
        },
        "id": "Cf_TTFEVLVB8",
        "outputId": "946353c0-66c9-42c4-8216-fe5b8008561f"
      },
      "outputs": [
        {
          "output_type": "execute_result",
          "data": {
            "text/plain": [
              "array([[1., 4.],\n",
              "       [0., 9.]])"
            ]
          },
          "metadata": {},
          "execution_count": 58
        }
      ],
      "source": [
        "b = np.floor(10*np.random.random((2,2)))\n",
        "b"
      ]
    },
    {
      "cell_type": "markdown",
      "metadata": {
        "id": "IFwLqphzLVB9"
      },
      "source": [
        "Concatenate the two arrays along dimension 1 (vertical) and dimension 2 (horizontal):"
      ]
    },
    {
      "cell_type": "code",
      "execution_count": 59,
      "metadata": {
        "colab": {
          "base_uri": "https://localhost:8080/"
        },
        "id": "rH1syZweLVB9",
        "outputId": "cdc887df-78dc-412d-d157-22786216ffec"
      },
      "outputs": [
        {
          "output_type": "execute_result",
          "data": {
            "text/plain": [
              "array([[3., 0.],\n",
              "       [6., 4.],\n",
              "       [1., 4.],\n",
              "       [0., 9.]])"
            ]
          },
          "metadata": {},
          "execution_count": 59
        }
      ],
      "source": [
        "np.concatenate((a, b), axis=0 )"
      ]
    },
    {
      "cell_type": "code",
      "execution_count": 60,
      "metadata": {
        "colab": {
          "base_uri": "https://localhost:8080/"
        },
        "id": "Y5bLhPsiLVB9",
        "outputId": "7c845d93-8ef3-4f52-969f-d2fa5900f065"
      },
      "outputs": [
        {
          "output_type": "execute_result",
          "data": {
            "text/plain": [
              "array([[3., 0., 1., 4.],\n",
              "       [6., 4., 0., 9.]])"
            ]
          },
          "metadata": {},
          "execution_count": 60
        }
      ],
      "source": [
        "np.concatenate((a, b), axis=1 )"
      ]
    },
    {
      "cell_type": "markdown",
      "metadata": {
        "id": "gjAQeW0uLVB-"
      },
      "source": [
        "# Copying matrices"
      ]
    },
    {
      "cell_type": "markdown",
      "metadata": {
        "id": "o0MTxcPZLVB-"
      },
      "source": [
        "Create a row vector of the first 12 non-negative numbers:"
      ]
    },
    {
      "cell_type": "code",
      "execution_count": 61,
      "metadata": {
        "colab": {
          "base_uri": "https://localhost:8080/"
        },
        "id": "tAPFaRB5LVB-",
        "outputId": "9c31dcdc-637d-47e1-d6ae-26c9aa4b342f"
      },
      "outputs": [
        {
          "output_type": "execute_result",
          "data": {
            "text/plain": [
              "array([ 0,  1,  2,  3,  4,  5,  6,  7,  8,  9, 10, 11])"
            ]
          },
          "metadata": {},
          "execution_count": 61
        }
      ],
      "source": [
        "a = np.arange(12)\n",
        "a"
      ]
    },
    {
      "cell_type": "markdown",
      "metadata": {
        "id": "TPjq8nNLLVB_"
      },
      "source": [
        "\"b\" array will be equal to \"a\":"
      ]
    },
    {
      "cell_type": "code",
      "execution_count": 64,
      "metadata": {
        "id": "0WgazWHyLVB_"
      },
      "outputs": [],
      "source": [
        "b = a"
      ]
    },
    {
      "cell_type": "markdown",
      "metadata": {
        "id": "5ZMqdxjjLVB_"
      },
      "source": [
        "Check whether they are equal:"
      ]
    },
    {
      "cell_type": "code",
      "execution_count": 65,
      "metadata": {
        "colab": {
          "base_uri": "https://localhost:8080/"
        },
        "id": "4ZozlLibLVCA",
        "outputId": "5952504e-99fe-4ae9-c91c-f8881ae2478d"
      },
      "outputs": [
        {
          "output_type": "execute_result",
          "data": {
            "text/plain": [
              "True"
            ]
          },
          "metadata": {},
          "execution_count": 65
        }
      ],
      "source": [
        "b is a"
      ]
    },
    {
      "cell_type": "markdown",
      "metadata": {
        "id": "KmUb-WGlLVCA"
      },
      "source": [
        "If I change the shape of b, then the shape of a also changes:"
      ]
    },
    {
      "cell_type": "code",
      "execution_count": 66,
      "metadata": {
        "colab": {
          "base_uri": "https://localhost:8080/"
        },
        "id": "A_qx41j8LVCA",
        "outputId": "fb272cd8-605d-49d4-fb6b-35977d530efd"
      },
      "outputs": [
        {
          "output_type": "execute_result",
          "data": {
            "text/plain": [
              "(3, 4)"
            ]
          },
          "metadata": {},
          "execution_count": 66
        }
      ],
      "source": [
        "b.shape = 3,4\n",
        "a.shape"
      ]
    },
    {
      "cell_type": "markdown",
      "metadata": {
        "id": "TZ9h-DHhLVCB"
      },
      "source": [
        "Let \"c\" be an array that looks the same as \"a\":"
      ]
    },
    {
      "cell_type": "code",
      "execution_count": 67,
      "metadata": {
        "colab": {
          "base_uri": "https://localhost:8080/"
        },
        "id": "v_1CYFUiLVCB",
        "outputId": "d2a09e2c-e18d-446e-b2e6-7fcb46e366fa"
      },
      "outputs": [
        {
          "output_type": "execute_result",
          "data": {
            "text/plain": [
              "False"
            ]
          },
          "metadata": {},
          "execution_count": 67
        }
      ],
      "source": [
        "c = a.view()\n",
        "c is a"
      ]
    },
    {
      "cell_type": "markdown",
      "metadata": {
        "id": "77CXWAALLVCB"
      },
      "source": [
        "Through array \"c\" we see the elements of array \"a\":"
      ]
    },
    {
      "cell_type": "code",
      "execution_count": 68,
      "metadata": {
        "colab": {
          "base_uri": "https://localhost:8080/"
        },
        "id": "A7Y1wfAGLVCC",
        "outputId": "72c1e765-2846-4919-d4f9-c35824067687"
      },
      "outputs": [
        {
          "output_type": "execute_result",
          "data": {
            "text/plain": [
              "True"
            ]
          },
          "metadata": {},
          "execution_count": 68
        }
      ],
      "source": [
        "c.base is a"
      ]
    },
    {
      "cell_type": "markdown",
      "metadata": {
        "id": "2H98xc0jLVCC"
      },
      "source": [
        "If I change the shape of \"c\", then the shape of \"a\" does not change:"
      ]
    },
    {
      "cell_type": "code",
      "execution_count": 69,
      "metadata": {
        "colab": {
          "base_uri": "https://localhost:8080/"
        },
        "id": "Yg31lQUVLVCC",
        "outputId": "4753a4b7-780b-44cd-8fc0-d08182dbb6a5"
      },
      "outputs": [
        {
          "output_type": "execute_result",
          "data": {
            "text/plain": [
              "(3, 4)"
            ]
          },
          "metadata": {},
          "execution_count": 69
        }
      ],
      "source": [
        "c.shape = 2,6\n",
        "a.shape"
      ]
    },
    {
      "cell_type": "markdown",
      "metadata": {
        "id": "VPrdVRsGLVCD"
      },
      "source": [
        "If I change the fourth element of array \"c\":"
      ]
    },
    {
      "cell_type": "code",
      "execution_count": 70,
      "metadata": {
        "colab": {
          "base_uri": "https://localhost:8080/"
        },
        "id": "yYxnie32LVCD",
        "outputId": "48d58160-d488-4b87-8454-4ed09164059b"
      },
      "outputs": [
        {
          "output_type": "execute_result",
          "data": {
            "text/plain": [
              "array([[   0,    1,    2,    3],\n",
              "       [1234,    5,    6,    7],\n",
              "       [   8,    9,   10,   11]])"
            ]
          },
          "metadata": {},
          "execution_count": 70
        }
      ],
      "source": [
        "c[0,4] = 1234\n",
        "a"
      ]
    },
    {
      "cell_type": "markdown",
      "metadata": {
        "id": "tTLg107GLVCD"
      },
      "source": [
        "Making a deep copy of the array. The \"d\" array does not refer to \"a\" but is independent of it:"
      ]
    },
    {
      "cell_type": "code",
      "execution_count": 71,
      "metadata": {
        "colab": {
          "base_uri": "https://localhost:8080/"
        },
        "id": "_ZXzDvHJLVCE",
        "outputId": "55736653-edca-49a9-f4cb-27b4edf29611"
      },
      "outputs": [
        {
          "output_type": "execute_result",
          "data": {
            "text/plain": [
              "False"
            ]
          },
          "metadata": {},
          "execution_count": 71
        }
      ],
      "source": [
        "d = a.copy()\n",
        "d is a"
      ]
    },
    {
      "cell_type": "code",
      "execution_count": 72,
      "metadata": {
        "colab": {
          "base_uri": "https://localhost:8080/"
        },
        "id": "1c66aTGLLVCE",
        "outputId": "1bddbcf7-e7fd-4a8b-a738-feb61572f9ae"
      },
      "outputs": [
        {
          "output_type": "execute_result",
          "data": {
            "text/plain": [
              "False"
            ]
          },
          "metadata": {},
          "execution_count": 72
        }
      ],
      "source": [
        "d.base is a"
      ]
    },
    {
      "cell_type": "markdown",
      "metadata": {
        "collapsed": true,
        "id": "3yWEnI-2LVCE"
      },
      "source": [
        "# Garbage collector"
      ]
    },
    {
      "cell_type": "markdown",
      "metadata": {
        "collapsed": true,
        "id": "u2ytKsxnLVCF"
      },
      "source": [
        "The Python programming language has garbage collection to avoid memory leaks. In deep neural networks, we work with large amounts of data, so in many cases it may be necessary to \"manually\" flush memory before scheduling Python. This can be done as follows:"
      ]
    },
    {
      "cell_type": "code",
      "execution_count": 73,
      "metadata": {
        "colab": {
          "base_uri": "https://localhost:8080/"
        },
        "id": "grrEba0yLVCF",
        "outputId": "d97d0abb-d03a-41e8-ba01-272a95c7358e"
      },
      "outputs": [
        {
          "output_type": "execute_result",
          "data": {
            "text/plain": [
              "array([[2., 6., 3., 5.],\n",
              "       [5., 1., 9., 7.],\n",
              "       [9., 8., 5., 9.]])"
            ]
          },
          "metadata": {},
          "execution_count": 73
        }
      ],
      "source": [
        "a = np.floor(10*np.random.random((3,4)))\n",
        "a"
      ]
    },
    {
      "cell_type": "code",
      "execution_count": 74,
      "metadata": {
        "colab": {
          "base_uri": "https://localhost:8080/"
        },
        "id": "TMhW2bqPLVCF",
        "outputId": "6a9be443-6b4b-4f97-c064-5ea6545e57d3"
      },
      "outputs": [
        {
          "output_type": "execute_result",
          "data": {
            "text/plain": [
              "[]"
            ]
          },
          "metadata": {},
          "execution_count": 74
        }
      ],
      "source": [
        "a = []\n",
        "a"
      ]
    },
    {
      "cell_type": "markdown",
      "metadata": {
        "id": "47f6hxetLVCG"
      },
      "source": [
        "Import the Garbage Collector (GC) module and collect the entire memory garbage. The return value of gc.collect() is the number of items not reached."
      ]
    },
    {
      "cell_type": "code",
      "execution_count": 75,
      "metadata": {
        "colab": {
          "base_uri": "https://localhost:8080/"
        },
        "id": "9bcmQzX-LVCG",
        "outputId": "16bb7756-6c5d-461a-c6d2-ea40bf95ddea"
      },
      "outputs": [
        {
          "output_type": "execute_result",
          "data": {
            "text/plain": [
              "56"
            ]
          },
          "metadata": {},
          "execution_count": 75
        }
      ],
      "source": [
        "import gc\n",
        "gc.collect()"
      ]
    },
    {
      "cell_type": "code",
      "source": [],
      "metadata": {
        "id": "4B0feANuhQRQ"
      },
      "execution_count": null,
      "outputs": []
    }
  ],
  "metadata": {
    "kernelspec": {
      "display_name": "Python 3 (ipykernel)",
      "language": "python",
      "name": "python3"
    },
    "language_info": {
      "codemirror_mode": {
        "name": "ipython",
        "version": 3
      },
      "file_extension": ".py",
      "mimetype": "text/x-python",
      "name": "python",
      "nbconvert_exporter": "python",
      "pygments_lexer": "ipython3",
      "version": "3.8.10"
    },
    "colab": {
      "provenance": []
    }
  },
  "nbformat": 4,
  "nbformat_minor": 0
}